{
 "cells": [
  {
   "cell_type": "code",
   "execution_count": 1,
   "metadata": {},
   "outputs": [
    {
     "name": "stdout",
     "output_type": "stream",
     "text": [
      "(1, 2, 3, 11, 5, 6, 8)\n",
      "[1, 2, 3]\n",
      "[1, 2]\n",
      "number 1 repeats 1 times\n",
      "number 2 repeats 1 times\n",
      "number 3 repeats 1 times\n",
      "number 11 repeats 1 times\n",
      "number 5 repeats 1 times\n",
      "number 6 repeats 1 times\n",
      "number 8 repeats 1 times\n",
      "max value in tuple 11\n",
      "[11, 8, 6, 5, 3, 2, 1]\n",
      "max value in tuple 11\n",
      "1\n",
      "2\n",
      "3\n",
      "4\n",
      "5\n",
      "6\n",
      "7\n",
      "8\n",
      "9\n",
      "10\n",
      "1275\n"
     ]
    }
   ],
   "source": [
    "tuple1 = (1,2,3)\n",
    "tuple2 = (11,5,6,8)\n",
    "new_tuple = tuple1 + tuple2\n",
    "print (new_tuple)\n",
    "list_1 = list(tuple1)\n",
    "print (list_1)\n",
    "list_1.pop()\n",
    "print (list_1)\n",
    "for number in new_tuple:\n",
    "    print(f'number {number} repeats {new_tuple.count(number)} times')\n",
    "print (f'max value in tuple {max(new_tuple) }')\n",
    "tmp_list = list (new_tuple)\n",
    "tmp_list.sort(reverse=True)\n",
    "print (tmp_list)\n",
    "print (f'max value in tuple {tmp_list[0] }')\n",
    "\n",
    "\n",
    "for number in range(1,11):\n",
    "    print (number)\n",
    "my_sum = 0\n",
    "for number in range(1,51):\n",
    "    my_sum += number\n",
    "    # print( my_sum)\n",
    "print (my_sum)\n",
    "\n"
   ]
  },
  {
   "cell_type": "code",
   "execution_count": 2,
   "metadata": {},
   "outputs": [
    {
     "name": "stdout",
     "output_type": "stream",
     "text": [
      "[1, 2, 3, 7, 6, 5, 5, 5, 5, 5]\n",
      "[1, 2, 3, 7, 6, 5, 5, 5, 5]\n",
      "[7, 6, 5, 5, 5, 5, 3, 2, 1]\n",
      "number 7 repeats 1 times\n",
      "number 6 repeats 1 times\n",
      "number 5 repeats 4 times\n",
      "number 5 repeats 4 times\n",
      "number 5 repeats 4 times\n",
      "number 5 repeats 4 times\n",
      "number 3 repeats 1 times\n",
      "number 2 repeats 1 times\n",
      "number 1 repeats 1 times\n"
     ]
    }
   ],
   "source": [
    "# new_list = [1,2,3] + ['1','2','3' ]\n",
    "new_list = [1,2,3] + [7,6,5,5,5,5,5 ]\n",
    "print (new_list)\n",
    "new_list.pop()\n",
    "print (new_list)\n",
    "new_list.sort(reverse=True)\n",
    "print (new_list)\n",
    "for number in new_list:\n",
    "    print(f'number {number} repeats {new_list.count(number)} times')\n"
   ]
  },
  {
   "cell_type": "code",
   "execution_count": 3,
   "metadata": {},
   "outputs": [
    {
     "name": "stdout",
     "output_type": "stream",
     "text": [
      "3\n",
      "[1, 3, 5, 9]\n"
     ]
    }
   ],
   "source": [
    "my_list = [ 1, 3, 5 ]\n",
    "print (len(my_list))\n",
    "my_list.append(9)\n",
    "print(my_list)\n"
   ]
  },
  {
   "cell_type": "code",
   "execution_count": null,
   "metadata": {},
   "outputs": [],
   "source": [
    "user_input = input('Enter a number:')\n",
    "user_number = int(user_input)\n",
    "for i in range(1,11):\n",
    "    print (f'number {user_number} multiplied by {i} is equal to {user_number * i}')\n"
   ]
  },
  {
   "cell_type": "code",
   "execution_count": 4,
   "metadata": {},
   "outputs": [
    {
     "name": "stdout",
     "output_type": "stream",
     "text": [
      "This is True\n"
     ]
    }
   ],
   "source": [
    "if 2>1:\n",
    "    print('This is True')"
   ]
  },
  {
   "cell_type": "code",
   "execution_count": 5,
   "metadata": {},
   "outputs": [
    {
     "name": "stdout",
     "output_type": "stream",
     "text": [
      "end of script\n"
     ]
    }
   ],
   "source": [
    "if 0>1:\n",
    "    print('This is True')\n",
    "print('end of script')"
   ]
  },
  {
   "cell_type": "code",
   "execution_count": 6,
   "metadata": {},
   "outputs": [
    {
     "name": "stdout",
     "output_type": "stream",
     "text": [
      "The number is less or equal than 10\n",
      "end of script\n"
     ]
    }
   ],
   "source": [
    "number = 5\n",
    "if number > 10:\n",
    "    print(f'The number is more than 10')\n",
    "else:\n",
    "    print(f'The number is less or equal than 10')\n",
    "print('end of script')"
   ]
  },
  {
   "cell_type": "code",
   "execution_count": 7,
   "metadata": {},
   "outputs": [
    {
     "name": "stdout",
     "output_type": "stream",
     "text": [
      "The number is more than 10\n",
      "end of script\n"
     ]
    }
   ],
   "source": [
    "number = 13\n",
    "if number > 10:\n",
    "    print(f'The number is more than 10')\n",
    "else:\n",
    "    print(f'The number is less or equal than 10')\n",
    "print('end of script')"
   ]
  },
  {
   "cell_type": "code",
   "execution_count": 8,
   "metadata": {},
   "outputs": [
    {
     "name": "stdout",
     "output_type": "stream",
     "text": [
      "Hi Manvydas\n",
      "end of script\n"
     ]
    }
   ],
   "source": [
    "name = 'Manvydas'\n",
    "year = 1996\n",
    "if name == 'Tomas':\n",
    "    print ('Hi Tomas')\n",
    "elif name == 'Manvydas' and year > 1900:\n",
    "    print('Hi Manvydas')\n",
    "else:\n",
    "    print('Hi unknown person')\n",
    "print('end of script')"
   ]
  },
  {
   "cell_type": "code",
   "execution_count": 9,
   "metadata": {},
   "outputs": [
    {
     "name": "stdout",
     "output_type": "stream",
     "text": [
      "3\n",
      "6\n",
      "9\n",
      "12\n",
      "15\n",
      "18\n",
      "21\n",
      "24\n",
      "27\n",
      "30\n"
     ]
    }
   ],
   "source": [
    "for number in range(1,31):\n",
    "    if number % 3 ==0:\n",
    "        print(number)"
   ]
  },
  {
   "cell_type": "code",
   "execution_count": 10,
   "metadata": {},
   "outputs": [
    {
     "name": "stdout",
     "output_type": "stream",
     "text": [
      "[110, 114, 118, 122, 126, 130, 134, 138, 142, 146, 150, 154, 158, 162, 166, 170, 174, 178, 182, 186, 190, 194, 198, 202, 206, 210]\n",
      "110\n",
      "138\n",
      "166\n",
      "194\n"
     ]
    }
   ],
   "source": [
    "my_list = list(range(110,213,4))\n",
    "print (my_list)\n",
    "\n",
    "for idx in range(0,len(my_list)):\n",
    "    if idx % 7 == 0:\n",
    "        print (my_list[idx])\n"
   ]
  },
  {
   "cell_type": "code",
   "execution_count": 11,
   "metadata": {},
   "outputs": [
    {
     "name": "stdout",
     "output_type": "stream",
     "text": [
      "2\n",
      "6\n",
      "12\n",
      "20\n",
      "30\n",
      "42\n",
      "56\n",
      "72\n",
      "90\n",
      "110\n",
      "132\n",
      "156\n",
      "182\n",
      "210\n",
      "240\n",
      "272\n",
      "306\n",
      "342\n",
      "380\n",
      "420\n",
      "462\n",
      "506\n",
      "552\n",
      "600\n",
      "650\n"
     ]
    }
   ],
   "source": [
    "my_sum = 0\n",
    "\n",
    "for number in range(1,51):\n",
    "    if (my_sum +number) % 2 == 0:\n",
    "        my_sum += number\n",
    "        print(my_sum)"
   ]
  },
  {
   "cell_type": "code",
   "execution_count": 14,
   "metadata": {},
   "outputs": [
    {
     "name": "stdout",
     "output_type": "stream",
     "text": [
      "Monday\n",
      "12\n",
      "13\n",
      "14\n",
      "15\n",
      "16\n",
      "17\n",
      "Tuesday\n",
      "12\n",
      "13\n",
      "14\n",
      "15\n",
      "16\n",
      "17\n",
      "[('Monday', 12), ('Monday', 13), ('Monday', 14), ('Monday', 15), ('Monday', 16), ('Monday', 17), ('Tuesday', 12), ('Tuesday', 13), ('Tuesday', 14), ('Tuesday', 15), ('Tuesday', 16), ('Tuesday', 17)]\n"
     ]
    }
   ],
   "source": [
    "days = ('Monday', 'Tuesday', 'Wednesday', 'Thursday', 'Friday', 'Saturday' , 'Sunday')\n",
    "hours = [10, 11, 12, 13, 14, 15, 16, 17, 18, 19]\n",
    "\n",
    "avaliable_days = ['Monday','Tuesday']\n",
    "avaliable_hours = [12, 13, 14, 15, 16, 17]\n",
    "combinations = []\n",
    "for day in days:\n",
    "    if day in avaliable_days:\n",
    "        print(day)\n",
    "        for hour in hours:\n",
    "            if hour in avaliable_hours:\n",
    "                print(hour)\n",
    "                combination = (day,hour)\n",
    "                combinations.append(combination)\n",
    "            \n",
    "print(combinations)"
   ]
  },
  {
   "cell_type": "code",
   "execution_count": 15,
   "metadata": {},
   "outputs": [
    {
     "name": "stdout",
     "output_type": "stream",
     "text": [
      "Monday\n",
      "12\n",
      "13\n",
      "14\n",
      "15\n",
      "16\n",
      "17\n",
      "Checking next day\n",
      "Wednesday\n",
      "12\n",
      "13\n",
      "14\n",
      "15\n",
      "16\n",
      "17\n",
      "Checking next day\n",
      "[('Monday', 12), ('Monday', 13), ('Monday', 14), ('Monday', 15), ('Monday', 16), ('Monday', 17), ('Wednesday', 12), ('Wednesday', 13), ('Wednesday', 14), ('Wednesday', 15), ('Wednesday', 16), ('Wednesday', 17)]\n"
     ]
    }
   ],
   "source": [
    "days = ('Monday', 'Tuesday', 'Wednesday', 'Thursday', 'Friday', 'Saturday' , 'Sunday')\n",
    "hours = [10, 11, 12, 13, 14, 15, 16, 17, 18, 19]\n",
    "\n",
    "available_days = [ 'Monday', 'Wednesday']\n",
    "available_hours = [12, 13, 14, 15, 16, 17]\n",
    "\n",
    "combinations = []\n",
    "for day in days:\n",
    "    if day in available_days:\n",
    "        print(day)\n",
    "        for hour in hours:\n",
    "            if hour in available_hours:\n",
    "                print (hour)\n",
    "                combination = (day,hour)\n",
    "                combinations.append(combination)\n",
    "        print ('Checking next day')\n",
    "\n",
    "print (combinations)\n"
   ]
  },
  {
   "cell_type": "code",
   "execution_count": 16,
   "metadata": {},
   "outputs": [
    {
     "name": "stdout",
     "output_type": "stream",
     "text": [
      "[6, 64, 10, 4]\n"
     ]
    }
   ],
   "source": [
    "#list comprehension\n",
    "\n",
    "my_list = [3,32,5,2]\n",
    "mult_2 = [number*2 for number in my_list]\n",
    "print(mult_2)"
   ]
  },
  {
   "cell_type": "code",
   "execution_count": 17,
   "metadata": {},
   "outputs": [
    {
     "name": "stdout",
     "output_type": "stream",
     "text": [
      "[64, 4]\n"
     ]
    }
   ],
   "source": [
    "my_list = [3,32,5,2]\n",
    "mult_2 = [number*2 for number in my_list if number % 2==0]\n",
    "print(mult_2)"
   ]
  },
  {
   "cell_type": "code",
   "execution_count": 25,
   "metadata": {},
   "outputs": [
    {
     "name": "stdout",
     "output_type": "stream",
     "text": [
      "[('Monday', 12), ('Monday', 13), ('Monday', 14), ('Monday', 15), ('Monday', 16), ('Monday', 17), ('Wednesday', 12), ('Wednesday', 13), ('Wednesday', 14), ('Wednesday', 15), ('Wednesday', 16), ('Wednesday', 17)]\n"
     ]
    }
   ],
   "source": [
    "\n",
    "days = ('Monday', 'Tuesday', 'Wednesday', 'Thursday', 'Friday', 'Saturday' , 'Sunday')\n",
    "hours = [10, 11, 12, 13, 14, 15, 16, 17, 18, 19]\n",
    "\n",
    "valid_days = [ 'Monday', 'Wednesday']\n",
    "valid_hours = [12, 13, 14, 15, 16, 17]\n",
    "\n",
    "combinations = [ (day, hour) for day in days for hour in hours if day in valid_days and hour in valid_hours ]\n",
    "print(combinations)\n"
   ]
  },
  {
   "cell_type": "code",
   "execution_count": 27,
   "metadata": {},
   "outputs": [
    {
     "name": "stdout",
     "output_type": "stream",
     "text": [
      "[15, 8, 148, 21, 264, 264, 39]\n"
     ]
    }
   ],
   "source": [
    "my_list = [5,4,74,7,132,132,13]\n",
    "# [RESULT for STH in ITERABLE]\n",
    "mult = [number*2 if number % 2 == 0 else number*3 for number in my_list ]\n",
    "print(mult)\n"
   ]
  },
  {
   "cell_type": "code",
   "execution_count": 34,
   "metadata": {},
   "outputs": [
    {
     "name": "stdout",
     "output_type": "stream",
     "text": [
      "{'name': ['tomas', 'audrius'], 'age': 12, False: 'false', 5: 'five', 'hobies': ['futbolas', 'tenisas']}\n",
      "5\n"
     ]
    }
   ],
   "source": [
    "#Dictionary\n",
    "\n",
    "my_dict = {\n",
    "    'name':['tomas','audrius'],\n",
    "    'age': 12,\n",
    "    False: 'false',\n",
    "    5:'five',\n",
    "    'hobies':['futbolas', 'tenisas'],\n",
    "}\n",
    "print(my_dict)\n",
    "print(len(my_dict))"
   ]
  },
  {
   "cell_type": "code",
   "execution_count": 35,
   "metadata": {},
   "outputs": [
    {
     "name": "stdout",
     "output_type": "stream",
     "text": [
      "{'sum': 0, 'mult_sum': 0, 'div_sum': 0}\n"
     ]
    }
   ],
   "source": [
    "tmp_dict = dict.fromkeys(['sum','mult_sum','div_sum'],0)\n",
    "print(tmp_dict)"
   ]
  },
  {
   "cell_type": "code",
   "execution_count": 40,
   "metadata": {},
   "outputs": [
    {
     "name": "stdout",
     "output_type": "stream",
     "text": [
      "12\n",
      "12\n",
      "None\n",
      "False\n"
     ]
    }
   ],
   "source": [
    "print(my_dict.get('age'))\n",
    "print(my_dict['age'])\n",
    "print(my_dict.get('namai')) #none\n",
    "print(my_dict.get('namai',False))"
   ]
  },
  {
   "cell_type": "code",
   "execution_count": 42,
   "metadata": {},
   "outputs": [
    {
     "name": "stdout",
     "output_type": "stream",
     "text": [
      "False\n",
      "Dictionary does not contain 'address' info\n"
     ]
    }
   ],
   "source": [
    "# my_dictionary['address'] # gives an error\n",
    "print (my_dict.get('address', False) )\n",
    "if my_dict.get('address', False) == False:\n",
    "    print (\"Dictionary does not contain 'address' info\")\n"
   ]
  },
  {
   "cell_type": "code",
   "execution_count": 43,
   "metadata": {},
   "outputs": [
    {
     "name": "stdout",
     "output_type": "stream",
     "text": [
      "false\n"
     ]
    }
   ],
   "source": [
    "print(my_dict.pop(False))# gives error on second run"
   ]
  },
  {
   "cell_type": "code",
   "execution_count": 45,
   "metadata": {},
   "outputs": [
    {
     "name": "stdout",
     "output_type": "stream",
     "text": [
      "{'name': ['tomas', 'audrius'], 'age': 12, 5: 'five', 'hobies': ['futbolas', 'tenisas'], 'key': 'raktai', 'namai': 'Vilnius'}\n"
     ]
    }
   ],
   "source": [
    "new_dict = {\n",
    "    'key': 'raktai',\n",
    "    'namai':'Vilnius',\n",
    "}\n",
    "\n",
    "my_dict.update(new_dict)\n",
    "print(my_dict)"
   ]
  },
  {
   "cell_type": "code",
   "execution_count": 46,
   "metadata": {},
   "outputs": [
    {
     "name": "stdout",
     "output_type": "stream",
     "text": [
      "key name has a value of ['tomas', 'audrius']\n",
      "key age has a value of 12\n",
      "key 5 has a value of five\n",
      "key hobies has a value of ['futbolas', 'tenisas']\n",
      "key key has a value of raktai\n",
      "key namai has a value of Vilnius\n"
     ]
    }
   ],
   "source": [
    "for key, value in my_dict.items():\n",
    "    print(f'key {key} has a value of {value}')"
   ]
  },
  {
   "cell_type": "code",
   "execution_count": 1,
   "metadata": {},
   "outputs": [
    {
     "name": "stdout",
     "output_type": "stream",
     "text": [
      "user_input has no value, enter it.\n",
      "User name is : asd\n",
      "User name is : asd\n",
      "User name is : asd\n",
      "User name is : asd\n"
     ]
    }
   ],
   "source": [
    "user_input = None\n",
    "\n",
    "for i in range(5):\n",
    "    if user_input is None:\n",
    "        print ('user_input has no value, enter it.')\n",
    "        user_input = input(\"Enter your name\")\n",
    "        if not user_input:\n",
    "            print (\"You haven't enterned anything\")\n",
    "            user_input = None\n",
    "    else:\n",
    "        print (f'User name is : {user_input}')\n"
   ]
  }
 ],
 "metadata": {
  "interpreter": {
   "hash": "21a859cbf10483a4ed0edf5b9849244689ffc92bec6c92eb8b7d9084b1056d0a"
  },
  "kernelspec": {
   "display_name": "Python 3.9.7 64-bit",
   "language": "python",
   "name": "python3"
  },
  "language_info": {
   "codemirror_mode": {
    "name": "ipython",
    "version": 3
   },
   "file_extension": ".py",
   "mimetype": "text/x-python",
   "name": "python",
   "nbconvert_exporter": "python",
   "pygments_lexer": "ipython3",
   "version": "3.9.7"
  },
  "orig_nbformat": 4
 },
 "nbformat": 4,
 "nbformat_minor": 2
}
