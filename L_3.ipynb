{
 "cells": [
  {
   "cell_type": "code",
   "execution_count": 1,
   "metadata": {},
   "outputs": [
    {
     "name": "stdout",
     "output_type": "stream",
     "text": [
      "[1231, 1312, 13123, 'viso gero', ['labas', 'cia', 'listas liste'], 'Zdarova', 1231, 13, 46, 3124, 'labas']\n"
     ]
    }
   ],
   "source": [
    "my_list = [1231,1312,13123,'viso gero',['labas','cia','listas liste'],12313,1231,13,46,3124,'labas']\n",
    "my_list[5] = 'Zdarova'\n",
    "print(my_list)"
   ]
  },
  {
   "cell_type": "code",
   "execution_count": 2,
   "metadata": {},
   "outputs": [
    {
     "data": {
      "text/plain": [
       "[1, 2, 3, 4, 'a', 'b', 'r', 'a', 'b', 'r']"
      ]
     },
     "execution_count": 2,
     "metadata": {},
     "output_type": "execute_result"
    }
   ],
   "source": [
    "[1,2,3,4] + ['a','b','r']\n",
    "[1,2,3,4] + ['a','b','r'] * 2"
   ]
  },
  {
   "cell_type": "code",
   "execution_count": 3,
   "metadata": {},
   "outputs": [
    {
     "name": "stdout",
     "output_type": "stream",
     "text": [
      "[1231, 1312, 13123, 'viso gero', ['labas', 'cia', 'listas liste'], 'Zdarova', 1231, 13, 46, 3124, 'labas', 4, 123, 1, '1', '2', '3', 123]\n",
      "123\n",
      "3\n",
      "[1231, 1312, 13123, 'viso gero', ['labas', 'cia', 'listas liste'], 'Zdarova', 1231, 13, 46, 3124, 'labas', 4, 123, 1, '1', '2']\n"
     ]
    }
   ],
   "source": [
    "my_list.append(4)\n",
    "my_list.append(123)\n",
    "my_list.append(1)\n",
    "my_list.extend('123')\n",
    "my_list.extend([123])\n",
    "print(my_list)\n",
    "\n",
    "Poped_value = my_list.pop()\n",
    "print(Poped_value)\n",
    "Poped_value = my_list.pop()\n",
    "print(Poped_value)\n",
    "print(my_list)"
   ]
  },
  {
   "cell_type": "code",
   "execution_count": 4,
   "metadata": {},
   "outputs": [
    {
     "name": "stdout",
     "output_type": "stream",
     "text": [
      "[1231, 1312, 13123, 'laba diena', 'viso gero', ['labas', 'cia', 'listas liste'], 'Zdarova', 1231, 13, 46, 3124, 'labas', 4, 123, 1, '1', '2']\n"
     ]
    }
   ],
   "source": [
    "my_list.insert(3,'laba diena')\n",
    "print(my_list)"
   ]
  },
  {
   "cell_type": "code",
   "execution_count": 5,
   "metadata": {},
   "outputs": [
    {
     "name": "stdout",
     "output_type": "stream",
     "text": [
      "[1231, 1312, 13123, 'viso gero', ['labas', 'cia', 'listas liste'], 'Zdarova', 1231, 13, 46, 3124, 'labas', 4, 123, 1, '1', '2']\n"
     ]
    }
   ],
   "source": [
    "my_list.remove('laba diena')\n",
    "print(my_list)"
   ]
  },
  {
   "cell_type": "code",
   "execution_count": 6,
   "metadata": {},
   "outputs": [
    {
     "name": "stdout",
     "output_type": "stream",
     "text": [
      "[1231, 1312, 13123, 'viso gero', ['labas', 'cia', 'listas liste'], 'Zdarova', 1231, 13, 46, 3124, 'labas', 4, 123, 1, '1', '2']\n",
      "viso gero\n",
      "3\n"
     ]
    }
   ],
   "source": [
    "print(my_list)\n",
    "index_10 = my_list.index('viso gero')\n",
    "print(my_list[index_10])\n",
    "print(index_10)\n"
   ]
  },
  {
   "cell_type": "code",
   "execution_count": 7,
   "metadata": {},
   "outputs": [
    {
     "data": {
      "text/plain": [
       "[1231,\n",
       " 1312,\n",
       " 13123,\n",
       " 'viso gero',\n",
       " ['labas', 'cia', 'listas liste'],\n",
       " 'Zdarova',\n",
       " 1231,\n",
       " 13,\n",
       " 46,\n",
       " 3124,\n",
       " 'labas',\n",
       " 4,\n",
       " 123,\n",
       " 1,\n",
       " '1',\n",
       " '2',\n",
       " 'sff123424f']"
      ]
     },
     "execution_count": 7,
     "metadata": {},
     "output_type": "execute_result"
    }
   ],
   "source": [
    "my_list.append('sff123424f')\n",
    "my_list.count(1)\n",
    "my_list.reverse\n",
    "my_list"
   ]
  },
  {
   "cell_type": "code",
   "execution_count": 8,
   "metadata": {},
   "outputs": [
    {
     "name": "stdout",
     "output_type": "stream",
     "text": [
      "1\n",
      "2\n",
      "2446036592944\n",
      "2446036592976\n"
     ]
    }
   ],
   "source": [
    "# mutable vs immutable\n",
    "a = 1\n",
    "b = a\n",
    "b += 1\n",
    "print(a)\n",
    "print(b)\n",
    "print(id(a))\n",
    "print(id(b))"
   ]
  },
  {
   "cell_type": "code",
   "execution_count": 9,
   "metadata": {},
   "outputs": [
    {
     "name": "stdout",
     "output_type": "stream",
     "text": [
      "[1, 2, 3, 100]\n",
      "[1, 2, 3, 100]\n",
      "2446089267072\n",
      "2446089267072\n"
     ]
    }
   ],
   "source": [
    "list1 = [1,2,3]\n",
    "list2 = list1\n",
    "list2.append(100)\n",
    "print(list1)\n",
    "print(list2)\n",
    "print(id(list1))\n",
    "print(id(list2))\n"
   ]
  },
  {
   "cell_type": "code",
   "execution_count": 10,
   "metadata": {},
   "outputs": [
    {
     "name": "stdout",
     "output_type": "stream",
     "text": [
      "[1, 2, [1, 5, 7, 54, 5, 100], 3]\n",
      "[1, 2, [1, 5, 7, 54, 5, 100], 3]\n",
      "2446089562432\n",
      "2446089237696\n"
     ]
    }
   ],
   "source": [
    "#fix mutability\n",
    "list1 = [1,2,[1,5,7,54,5],3]\n",
    "list2 = list1.copy()\n",
    "list2[2].append(100)\n",
    "print(list1)\n",
    "print(list2)\n",
    "print(id(list1))\n",
    "print(id(list2))"
   ]
  },
  {
   "cell_type": "code",
   "execution_count": 11,
   "metadata": {},
   "outputs": [
    {
     "name": "stdout",
     "output_type": "stream",
     "text": [
      "[1, 2, [1, 5, 7, 54, 5], 3]\n",
      "[1, 2, [1, 5, 7, 54, 5, 100], 3]\n",
      "2446089569280\n",
      "2446089568320\n"
     ]
    }
   ],
   "source": [
    "# deep copy to fix mutability list in the list\n",
    "\n",
    "import copy\n",
    "\n",
    "list1 = [1,2,[1,5,7,54,5],3]\n",
    "list2 = copy.deepcopy(list1)\n",
    "list2[2].append(100)\n",
    "print(list1)\n",
    "print(list2)\n",
    "print(id(list1))\n",
    "print(id(list2))"
   ]
  },
  {
   "cell_type": "code",
   "execution_count": 12,
   "metadata": {},
   "outputs": [
    {
     "name": "stdout",
     "output_type": "stream",
     "text": [
      "[1231, 1312, 13123, 'viso gero', ['labas', 'cia', 'listas liste'], 'Zdarova', 1231, 13, 46, 3124, 'labas', 4, 123, 1, '1', '2', 'sff123424f']\n"
     ]
    },
    {
     "data": {
      "text/plain": [
       "True"
      ]
     },
     "execution_count": 12,
     "metadata": {},
     "output_type": "execute_result"
    }
   ],
   "source": [
    "print(my_list)\n",
    "\"labas\" in my_list"
   ]
  },
  {
   "cell_type": "code",
   "execution_count": 13,
   "metadata": {},
   "outputs": [
    {
     "name": "stdout",
     "output_type": "stream",
     "text": [
      "1\n",
      "(1, 3, 4)\n",
      "Lenght iof the tuple: 6\n",
      "count of 1 in tuple: 2\n",
      "Check value in tuple: True\n",
      "Check position of word labas: 3\n"
     ]
    }
   ],
   "source": [
    "#Tuples\n",
    "tuple1 = (1,3,4,'labas',1,'cia')\n",
    "print(tuple1[0])\n",
    "print(tuple1[:3])\n",
    "print(f'Lenght iof the tuple: {len(tuple1)}')\n",
    "print(f'count of 1 in tuple: {tuple1.count(1)}')\n",
    "print(f'Check value in tuple: {\"labas\" in tuple1}')\n",
    "print(f'Check position of word labas: {tuple1.index(\"labas\")}')"
   ]
  },
  {
   "cell_type": "code",
   "execution_count": 14,
   "metadata": {},
   "outputs": [
    {
     "name": "stdout",
     "output_type": "stream",
     "text": [
      "8\n",
      "8\n",
      "(11, [222, 33], 44, 55)\n",
      "(11, [222, 22], 44, 55)\n",
      "(11, [222, 33], 44, 55)\n",
      "[222, 33]\n",
      "(11, [222, 22], 44, 55)\n"
     ]
    }
   ],
   "source": [
    "my_tuple2 = (1, 2, ['3', 4, 5], [6, [7, (8)]])\n",
    "print(my_tuple2[3][1][1])\n",
    "print(my_tuple2[-1][-1][-1])\n",
    "\n",
    "tuple3 = (11, [222, 33], 44, 55)\n",
    "print(tuple3)\n",
    "temp_list = list(tuple3)\n",
    "temp_list[1][1] = 22\n",
    "print(tuple3)\n",
    "\n",
    "\n",
    "#changing to list.  working solution \n",
    "tuple1 = (11, [222, 33], 44, 55)\n",
    "print (tuple1)\n",
    "tmp_list = list(tuple1)\n",
    "print (tmp_list[1])\n",
    "tmp_list[1][1] = 22\n",
    "tuple1 = tuple(tuple1)\n",
    "print (tuple1)\n"
   ]
  },
  {
   "cell_type": "code",
   "execution_count": 23,
   "metadata": {},
   "outputs": [
    {
     "name": "stdout",
     "output_type": "stream",
     "text": [
      "[0, 1, 2, 3, 4, 5, 6, 7, 8, 9]\n",
      "[5, 6, 7, 8, 9]\n",
      "[]\n",
      "<class 'list'>\n",
      "<class 'tuple'>\n"
     ]
    }
   ],
   "source": [
    "#range\n",
    "range(100)\n",
    "print(list(range(10)))\n",
    "print(list(range(5,10)))\n",
    "print(list(range(2,24,-1)))\n",
    "\n",
    "print(type([1,2,34,4]))\n",
    "\n",
    "print(type((1,2,34,4)))"
   ]
  },
  {
   "cell_type": "code",
   "execution_count": 16,
   "metadata": {},
   "outputs": [
    {
     "name": "stdout",
     "output_type": "stream",
     "text": [
      "City is called: vilnius\n",
      "City is called: kaunas\n",
      "City is called: klaipeda\n",
      "went though all cities\n"
     ]
    }
   ],
   "source": [
    "#For loop\n",
    "citys = ['vilnius','kaunas','klaipeda']\n",
    "for city in citys:\n",
    "    print(f'City is called: {city}')\n",
    "print ('went though all cities')\n"
   ]
  },
  {
   "cell_type": "code",
   "execution_count": 17,
   "metadata": {},
   "outputs": [
    {
     "name": "stdout",
     "output_type": "stream",
     "text": [
      "Index is 10\n",
      "Index is 12\n",
      "Index is 14\n",
      "Index is 16\n",
      "Index is 18\n",
      "Index is 20\n",
      "Index is 22\n",
      "Index is 24\n",
      "Index is 26\n",
      "Index is 28\n",
      "Index is 30\n",
      "Index is 32\n",
      "Index is 34\n",
      "Index is 36\n",
      "Index is 38\n",
      "Index is 40\n",
      "Index is 42\n",
      "Index is 44\n",
      "Index is 46\n",
      "Index is 48\n"
     ]
    }
   ],
   "source": [
    "for i in range(10,50,2):\n",
    "    print(f'Index is {i}')"
   ]
  },
  {
   "cell_type": "code",
   "execution_count": 18,
   "metadata": {},
   "outputs": [
    {
     "name": "stdout",
     "output_type": "stream",
     "text": [
      "[('Monday', 10), ('Monday', 11), ('Monday', 12), ('Monday', 13), ('Monday', 14), ('Monday', 15), ('Monday', 16), ('Monday', 17), ('Monday', 18), ('Monday', 19), ('Tuesday', 10), ('Tuesday', 11), ('Tuesday', 12), ('Tuesday', 13), ('Tuesday', 14), ('Tuesday', 15), ('Tuesday', 16), ('Tuesday', 17), ('Tuesday', 18), ('Tuesday', 19), ('Wednesday', 10), ('Wednesday', 11), ('Wednesday', 12), ('Wednesday', 13), ('Wednesday', 14), ('Wednesday', 15), ('Wednesday', 16), ('Wednesday', 17), ('Wednesday', 18), ('Wednesday', 19), ('Thursday', 10), ('Thursday', 11), ('Thursday', 12), ('Thursday', 13), ('Thursday', 14), ('Thursday', 15), ('Thursday', 16), ('Thursday', 17), ('Thursday', 18), ('Thursday', 19), ('Friday', 10), ('Friday', 11), ('Friday', 12), ('Friday', 13), ('Friday', 14), ('Friday', 15), ('Friday', 16), ('Friday', 17), ('Friday', 18), ('Friday', 19), ('Saturday', 10), ('Saturday', 11), ('Saturday', 12), ('Saturday', 13), ('Saturday', 14), ('Saturday', 15), ('Saturday', 16), ('Saturday', 17), ('Saturday', 18), ('Saturday', 19), ('Sunday', 10), ('Sunday', 11), ('Sunday', 12), ('Sunday', 13), ('Sunday', 14), ('Sunday', 15), ('Sunday', 16), ('Sunday', 17), ('Sunday', 18), ('Sunday', 19)]\n"
     ]
    }
   ],
   "source": [
    "days = ('Monday', 'Tuesday', 'Wednesday', 'Thursday', 'Friday', 'Saturday' , 'Sunday')\n",
    "hours = [10, 11, 12, 13, 14, 15, 16, 17, 18, 19]\n",
    "\n",
    "combinations = []\n",
    "for day in days:\n",
    "    #print(day)\n",
    "    for hour in hours:\n",
    "        #print(hour)\n",
    "        combinations.append((day,hour))\n",
    "print(combinations)"
   ]
  },
  {
   "cell_type": "code",
   "execution_count": 19,
   "metadata": {},
   "outputs": [
    {
     "name": "stdout",
     "output_type": "stream",
     "text": [
      "adas\n"
     ]
    }
   ],
   "source": [
    "text = input(\" enter anything\")\n",
    "print(text)"
   ]
  }
 ],
 "metadata": {
  "interpreter": {
   "hash": "21a859cbf10483a4ed0edf5b9849244689ffc92bec6c92eb8b7d9084b1056d0a"
  },
  "kernelspec": {
   "display_name": "Python 3.9.7 64-bit",
   "language": "python",
   "name": "python3"
  },
  "language_info": {
   "codemirror_mode": {
    "name": "ipython",
    "version": 3
   },
   "file_extension": ".py",
   "mimetype": "text/x-python",
   "name": "python",
   "nbconvert_exporter": "python",
   "pygments_lexer": "ipython3",
   "version": "3.9.7"
  },
  "orig_nbformat": 4
 },
 "nbformat": 4,
 "nbformat_minor": 2
}
