{
 "cells": [
  {
   "cell_type": "code",
   "execution_count": 50,
   "metadata": {},
   "outputs": [
    {
     "name": "stdout",
     "output_type": "stream",
     "text": [
      "There are 1 words longer or equal to 10\n",
      "This is the longest word : asdaSDsdasdas\n",
      "This is the shortest word : asdsaDasd\n",
      "Plindromes : \n"
     ]
    }
   ],
   "source": [
    "\n",
    "my_string=input(f'Please enter 10 words separated by space')\n",
    "my_set = my_string.split()\n",
    "longerlist=[]\n",
    "for word in my_set:\n",
    "    if len(word) >= 10:\n",
    "        longerlist.append(word)\n",
    "print(f'There are {len(longerlist)} words longer or equal to 10')\n",
    "\n",
    "longest_string = max(my_set,key=len)\n",
    "print(f'This is the longest word : {longest_string}')\n",
    "\n",
    "shortest_string = min(my_set,key=len)\n",
    "print(f'This is the shortest word : {shortest_string}')\n",
    "\n",
    "x=[]\n",
    "for palindrome in my_set:\n",
    "    if palindrome == palindrome[::-1] and len(palindrome) >=3:\n",
    "        x.append(palindrome)\n",
    "print(f'Plindromes : {\" \".join(map(str, x))}')"
   ]
  },
  {
   "cell_type": "code",
   "execution_count": 28,
   "metadata": {},
   "outputs": [
    {
     "name": "stdout",
     "output_type": "stream",
     "text": [
      "0\n",
      "1\n",
      "2\n",
      "3\n",
      "4\n",
      "Largest product is 21\n"
     ]
    }
   ],
   "source": [
    "my_list = [3, 6, -2, -5, 7, 3]\n",
    "\n",
    "#indexing\n",
    "\n",
    "max_prod = None\n",
    "for idx in range(len(my_list)-1):\n",
    "    print(idx)\n",
    "    my_list[idx] * my_list[idx +1]\n",
    "    if max_prod is None or my_list[idx] * my_list[idx +1] > max_prod:\n",
    "        max_prod = my_list[idx] * my_list[idx +1]\n",
    "print(f'Largest product is {max_prod}')\n",
    "\n",
    "\n"
   ]
  },
  {
   "cell_type": "code",
   "execution_count": 34,
   "metadata": {},
   "outputs": [
    {
     "name": "stdout",
     "output_type": "stream",
     "text": [
      "18\n",
      "21\n"
     ]
    }
   ],
   "source": [
    "max_prod = None\n",
    "\n",
    "my_list = [3, 6, -2, -5, 7, 3]\n",
    "for number_l, number_r in zip( my_list[1:], my_list[:-1] ):\n",
    "    #print (f'left: {number_l}, right: {number_r}')\n",
    "    if max_prod is None or number_l * number_r > max_prod:\n",
    "        max_prod = number_l*number_r\n",
    "        print(max_prod)"
   ]
  },
  {
   "cell_type": "code",
   "execution_count": 25,
   "metadata": {},
   "outputs": [
    {
     "name": "stdout",
     "output_type": "stream",
     "text": [
      "Duplicate items between two lists: [8, 9, 3, 15]\n"
     ]
    }
   ],
   "source": [
    "a = [1,2,3,4,5,6,7,8,9,15]\n",
    "b = [3,8,9,11,15]\n",
    "c =set(a).intersection(b)\n",
    "\n",
    "print(f'Duplicate items between two lists: {list(c)}')\n"
   ]
  },
  {
   "cell_type": "code",
   "execution_count": 23,
   "metadata": {},
   "outputs": [
    {
     "name": "stdout",
     "output_type": "stream",
     "text": [
      "[800, 1, 2, 900, 5, 8, 10, 12, 14]\n"
     ]
    }
   ],
   "source": [
    "#4. Filter out unique positive numbers from the list.\n",
    "x = [1, 5, 1, 2, 8, -9, 10, 1, -8, -900, 14, 5, -8, 2, 1, -20, 900, 800, -6, -8, 12, 1]  \n",
    "\n",
    "def numbers(x):\n",
    "    unique_list = []\n",
    "    unique = set(x)\n",
    "    for i in unique:\n",
    "        if i >0:\n",
    "            unique_list.append(i)\n",
    "    return unique_list\n",
    "print(numbers(x))\n",
    "\n"
   ]
  },
  {
   "cell_type": "code",
   "execution_count": 27,
   "metadata": {},
   "outputs": [
    {
     "name": "stdout",
     "output_type": "stream",
     "text": [
      "14983.87\n",
      "14983.87\n"
     ]
    }
   ],
   "source": [
    "#Calculate the profit on the sale of all goods. Price and quantity information is provided as a dictionary, the answer rounded to 2 decimal places (use round() function)\n",
    "\n",
    "x = { \"cost_price\": 32.67, \n",
    "         \"sell_price\": 45.15656,      \n",
    "          \"inventory\": 1200  }\n",
    "\n",
    "Cost = (x['inventory'] * x['sell_price']) - (x['inventory'] * x['cost_price'])\n",
    "print(round(Cost,2))\n",
    "\n",
    "y = round(Cost,2)\n",
    "print(y)"
   ]
  },
  {
   "cell_type": "code",
   "execution_count": 22,
   "metadata": {},
   "outputs": [
    {
     "name": "stdout",
     "output_type": "stream",
     "text": [
      "5.77\n"
     ]
    }
   ],
   "source": [
    "x = round(5.76543, 2)\n",
    "print(x)"
   ]
  }
 ],
 "metadata": {
  "interpreter": {
   "hash": "21a859cbf10483a4ed0edf5b9849244689ffc92bec6c92eb8b7d9084b1056d0a"
  },
  "kernelspec": {
   "display_name": "Python 3.9.7 64-bit",
   "language": "python",
   "name": "python3"
  },
  "language_info": {
   "codemirror_mode": {
    "name": "ipython",
    "version": 3
   },
   "file_extension": ".py",
   "mimetype": "text/x-python",
   "name": "python",
   "nbconvert_exporter": "python",
   "pygments_lexer": "ipython3",
   "version": "3.9.7"
  },
  "orig_nbformat": 4
 },
 "nbformat": 4,
 "nbformat_minor": 2
}
