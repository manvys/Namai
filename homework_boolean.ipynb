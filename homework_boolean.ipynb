{
 "cells": [
  {
   "cell_type": "code",
   "execution_count": 161,
   "metadata": {},
   "outputs": [
    {
     "name": "stdout",
     "output_type": "stream",
     "text": [
      "Value is: True\n",
      "Value is: True\n",
      "Value is: True\n",
      "Value is: True\n",
      "Value is: True\n"
     ]
    }
   ],
   "source": [
    "#Declare True. Declare a True value in 5 Different ways\n",
    "\n",
    "one = 10 > 1\n",
    "print(f'Value is: {one}')\n",
    "\n",
    "Two = True and 100 >= 100 and True  or \"\"\n",
    "#False and 100 >= 100 and True  or \"\"\n",
    "print(f'Value is: {Two}')\n",
    "\n",
    "\n",
    "text = \"Mister Robot\"\n",
    "Three = \"Robot\" in text\n",
    "print(f'Value is: {Three}')\n",
    "\n",
    "list = [1,123,132,4123,12343,1212]\n",
    "Four = len(list) % 2 == 0\n",
    "print(f'Value is: {Four}')\n",
    "\n",
    "\n",
    "import datetime\n",
    "\n",
    "Five = datetime.datetime.now != 1996\n",
    "print(f'Value is: {Five}')\n",
    "\n",
    "\n",
    "\n"
   ]
  },
  {
   "cell_type": "code",
   "execution_count": 162,
   "metadata": {},
   "outputs": [
    {
     "name": "stdout",
     "output_type": "stream",
     "text": [
      "Value is: False\n",
      "Value is: False\n",
      "Value is: False\n",
      "Value is: False\n",
      "Value is: False\n"
     ]
    }
   ],
   "source": [
    "#Declare False. Declare a False value in 5 Different ways \n",
    "\n",
    "one = 10 // 1 % 2 == 1 or False\n",
    "print(f'Value is: {one}')\n",
    "\n",
    "list = [1,123,132,4123,12343,1212]\n",
    "Two = False and \"\" < sum(list) and list[0]\n",
    "print(f'Value is: {Two}')\n",
    "\n",
    "\n",
    "list2 = [\"Mister Robot\",1232,12312,45,3,564367,235,3,'Alio valio','Alio valio']\n",
    "Three = \"alio valio\" in list2\n",
    "print(f'Value is: {Three}')\n",
    "\n",
    "\n",
    "\n",
    "list = [1,123,132,4123,12343,1212]\n",
    "Four = len(list) % 2 == 1\n",
    "print(f'Value is: {Four}')\n",
    "\n",
    "list3 = [1312,123,13,4,412,2353,52,124,24,12,42,124,24124,224245,2345,235,123,13,1245,1534]\n",
    "slice1 = list3[0:3]\n",
    "slice2 = list3[::-1]\n",
    "Five = slice1 > slice2\n",
    "print(f'Value is: {Five}')\n"
   ]
  },
  {
   "cell_type": "code",
   "execution_count": 164,
   "metadata": {},
   "outputs": [
    {
     "name": "stdout",
     "output_type": "stream",
     "text": [
      "Value is: False\n",
      "Value is: False\n"
     ]
    }
   ],
   "source": [
    "#Declare False. 1. Using only INT type data 2. Only using String value\n",
    "\n",
    "list3 = [1312,123,13,4,412,2353,52,124,24,12,42,124,24124,224245,2345,235,123,13,1245,1534]\n",
    "slice1 = list3[0:3]\n",
    "slice2 = list3[::-1]\n",
    "Five = slice1 > slice2\n",
    "print(f'Value is: {Five}')\n",
    "\n",
    "\n",
    "list2 = ['Mister Robot','lazy', 'for','Alio valio' ,'jumping', 'over', 'the', 'box','Alio valio','alio valio','']\n",
    "myString =  len(list2) == 12\n",
    "print(f'Value is: {myString}')\n",
    "\n"
   ]
  }
 ],
 "metadata": {
  "interpreter": {
   "hash": "21a859cbf10483a4ed0edf5b9849244689ffc92bec6c92eb8b7d9084b1056d0a"
  },
  "kernelspec": {
   "display_name": "Python 3.9.7 64-bit",
   "language": "python",
   "name": "python3"
  },
  "language_info": {
   "codemirror_mode": {
    "name": "ipython",
    "version": 3
   },
   "file_extension": ".py",
   "mimetype": "text/x-python",
   "name": "python",
   "nbconvert_exporter": "python",
   "pygments_lexer": "ipython3",
   "version": "3.9.7"
  },
  "orig_nbformat": 4
 },
 "nbformat": 4,
 "nbformat_minor": 2
}
