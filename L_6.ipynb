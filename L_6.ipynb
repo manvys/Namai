{
 "cells": [
  {
   "cell_type": "markdown",
   "metadata": {},
   "source": [
    "# Functions"
   ]
  },
  {
   "cell_type": "markdown",
   "metadata": {},
   "source": []
  },
  {
   "cell_type": "code",
   "execution_count": 1,
   "metadata": {},
   "outputs": [],
   "source": [
    "def hello():\n",
    "    print(\"this function says hello\")\n",
    "    print(\"Hello World!\")\n",
    "    "
   ]
  },
  {
   "cell_type": "code",
   "execution_count": 2,
   "metadata": {},
   "outputs": [
    {
     "name": "stdout",
     "output_type": "stream",
     "text": [
      "this function says hello\n",
      "Hello World!\n"
     ]
    }
   ],
   "source": [
    "hello()"
   ]
  },
  {
   "cell_type": "code",
   "execution_count": 5,
   "metadata": {},
   "outputs": [
    {
     "name": "stdout",
     "output_type": "stream",
     "text": [
      "Hello Manvydas\n"
     ]
    }
   ],
   "source": [
    "def hello_1(name):\n",
    "    print(f'Hello {name}')\n",
    "\n",
    "hello_1('Manvydas')"
   ]
  },
  {
   "cell_type": "code",
   "execution_count": 8,
   "metadata": {},
   "outputs": [
    {
     "name": "stdout",
     "output_type": "stream",
     "text": [
      " Hello Manvydas from Vilnius\n",
      " Hello Manvydas from Kaunas\n",
      " Hello Manvydas from Siauliai\n"
     ]
    }
   ],
   "source": [
    "def hello_2(name, city='Vilnius'):\n",
    "    print(f' Hello {name} from {city}')\n",
    "\n",
    "hello_2('Manvydas')\n",
    "hello_2('Manvydas', 'Kaunas')\n",
    "hello_2(name='Manvydas', city='Siauliai')\n",
    "\n"
   ]
  },
  {
   "cell_type": "code",
   "execution_count": 10,
   "metadata": {},
   "outputs": [],
   "source": [
    "def add_2 (x,y):\n",
    "    return x+y"
   ]
  },
  {
   "cell_type": "code",
   "execution_count": 11,
   "metadata": {},
   "outputs": [
    {
     "data": {
      "text/plain": [
       "11"
      ]
     },
     "execution_count": 11,
     "metadata": {},
     "output_type": "execute_result"
    }
   ],
   "source": [
    "add_2(5,6)"
   ]
  },
  {
   "cell_type": "code",
   "execution_count": 16,
   "metadata": {},
   "outputs": [],
   "source": [
    "def myFunction(one, two):\n",
    "    if one + two % 2 == 0:\n",
    "        return one * two\n",
    "    else:\n",
    "        return one / two"
   ]
  },
  {
   "cell_type": "code",
   "execution_count": 18,
   "metadata": {},
   "outputs": [
    {
     "name": "stdout",
     "output_type": "stream",
     "text": [
      "0.3333333333333333\n",
      "2.0\n"
     ]
    }
   ],
   "source": [
    "print(myFunction(2,6))\n",
    "print(myFunction(10,5))"
   ]
  },
  {
   "cell_type": "code",
   "execution_count": null,
   "metadata": {},
   "outputs": [],
   "source": [
    "def variable(string1):\n",
    "    if string1 is str:\n",
    "        print(string1)\n",
    "    else:\n",
    "        print('this is not a string')\n",
    "        "
   ]
  }
 ],
 "metadata": {
  "interpreter": {
   "hash": "21a859cbf10483a4ed0edf5b9849244689ffc92bec6c92eb8b7d9084b1056d0a"
  },
  "kernelspec": {
   "display_name": "Python 3.9.7 64-bit",
   "language": "python",
   "name": "python3"
  },
  "language_info": {
   "codemirror_mode": {
    "name": "ipython",
    "version": 3
   },
   "file_extension": ".py",
   "mimetype": "text/x-python",
   "name": "python",
   "nbconvert_exporter": "python",
   "pygments_lexer": "ipython3",
   "version": "3.9.7"
  },
  "orig_nbformat": 4
 },
 "nbformat": 4,
 "nbformat_minor": 2
}
