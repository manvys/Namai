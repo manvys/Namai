{
 "cells": [
  {
   "cell_type": "code",
   "execution_count": 594,
   "metadata": {},
   "outputs": [
    {
     "name": "stdout",
     "output_type": "stream",
     "text": [
      "18\n",
      "manvydasx\n"
     ]
    }
   ],
   "source": [
    "my_name='manvydas'    \n",
    "x = 3\n",
    "y = 15\n",
    "print (x + y)\n",
    "print (my_name + \"x\")"
   ]
  },
  {
   "cell_type": "code",
   "execution_count": 595,
   "metadata": {},
   "outputs": [
    {
     "data": {
      "text/plain": [
       "'s'"
      ]
     },
     "execution_count": 595,
     "metadata": {},
     "output_type": "execute_result"
    }
   ],
   "source": [
    "#indexing\n",
    "my_name = \"Manvydas\"\n",
    "my_name[-1]"
   ]
  },
  {
   "cell_type": "code",
   "execution_count": 596,
   "metadata": {},
   "outputs": [
    {
     "name": "stdout",
     "output_type": "stream",
     "text": [
      "Labas mano wardas manu\n",
      "Labas mano' wardas' manu\n",
      "Labas mano ' \" wardas manu\n"
     ]
    }
   ],
   "source": [
    "#special \n",
    "my_text = \"Labas mano wardas manu\"\n",
    "print(my_text)\n",
    "my_text = \"Labas mano' wardas' manu\"\n",
    "print(my_text)\n",
    "my_text = \"Labas mano \\' \\\" wardas manu\"\n",
    "print(my_text)"
   ]
  },
  {
   "cell_type": "code",
   "execution_count": 597,
   "metadata": {},
   "outputs": [
    {
     "name": "stdout",
     "output_type": "stream",
     "text": [
      "kazkoks textas     ir cia dabar yra kita eilute. \n"
     ]
    }
   ],
   "source": [
    "some_text = 'kazkoks textas \\\n",
    "    ir cia dabar yra kita eilute. '\n",
    "print(some_text)"
   ]
  },
  {
   "cell_type": "code",
   "execution_count": 598,
   "metadata": {},
   "outputs": [
    {
     "name": "stdout",
     "output_type": "stream",
     "text": [
      "\n",
      "kazkoks textas \n",
      "ir cia dabar yra kita eilute. \n",
      "Ir cia darviena nauja eilute\n"
     ]
    }
   ],
   "source": [
    "# Nauja eilute /n arba triple \"\"\"\n",
    "some_text = \"\"\"\n",
    "kazkoks textas \n",
    "ir cia dabar yra kita eilute. \n",
    "Ir cia darviena nauja eilute\"\"\"\n",
    "print(some_text)"
   ]
  },
  {
   "cell_type": "code",
   "execution_count": 599,
   "metadata": {},
   "outputs": [
    {
     "name": "stdout",
     "output_type": "stream",
     "text": [
      "Manvydas Saumanas\n",
      "Manvydas Saumanas\n",
      "Manvydas SaumanasManvydas SaumanasManvydas SaumanasManvydas SaumanasManvydas SaumanasManvydas SaumanasManvydas SaumanasManvydas SaumanasManvydas SaumanasManvydas Saumanas\n",
      "Manoo vardas Manvydas Saumanas\n",
      "Manoo vardas Manvydas Saumanas\n",
      "Manoo vardas Manvydas Saumanas\n",
      "Mano vardas Manvydas Saumanas ir man 34\n"
     ]
    }
   ],
   "source": [
    "my_age = '34'\n",
    "my_name = 'Manvydas'\n",
    "my_surname = 'Saumanas'\n",
    "print(my_name + \" \" + my_surname)\n",
    "pilnas_vardas = (my_name + \" \" + my_surname)\n",
    "print(pilnas_vardas)\n",
    "print(pilnas_vardas * 10)\n",
    "print('Manoo vardas', my_name , my_surname)\n",
    "print(f'Manoo vardas {my_name} {my_surname}') #f stand for formating\n",
    "print('Manoo vardas {} {}'.format(my_name, my_surname)) # format function with place holder. Prefered way\n",
    "print(f'Mano vardas {my_name} {my_surname} ir man {my_age}') #formatas su vardiniais place holderiais"
   ]
  },
  {
   "cell_type": "code",
   "execution_count": 600,
   "metadata": {},
   "outputs": [
    {
     "name": "stdout",
     "output_type": "stream",
     "text": [
      "s cia yra t\n",
      "lbscayat\n",
      "iumyprak satsket sinsegli ,goiseit ary aic sabal\n"
     ]
    }
   ],
   "source": [
    "#slicing\n",
    "sentence = 'labas cia yra tiesiog, ilgesnis tekstas karpymui'\n",
    "sentence[0]\n",
    "print(sentence[4:15]) #pradzia ir pabaiga\n",
    "print(sentence[0:15:2]) #kas antra raide [start:end:step]\n",
    "print(sentence[::-1])# tekstas atvirksciai"
   ]
  },
  {
   "cell_type": "code",
   "execution_count": 601,
   "metadata": {},
   "outputs": [
    {
     "name": "stdout",
     "output_type": "stream",
     "text": [
      "labas cia yra tiesiog\n"
     ]
    }
   ],
   "source": [
    "#pasirinkti raide\n",
    "sentence.find(',')\n",
    "sentence[:sentence.find(',')] #nuo pradziu iki kablelio\n",
    "print(sentence[:sentence.find(',')]) #nuo pradziu iki kablelio"
   ]
  },
  {
   "cell_type": "code",
   "execution_count": 602,
   "metadata": {},
   "outputs": [
    {
     "name": "stdout",
     "output_type": "stream",
     "text": [
      "['1', '3', '4', '5', '67', '2434', '2342', '242444']\n",
      "67\n",
      "67\n"
     ]
    }
   ],
   "source": [
    "#Split\n",
    "text_with_numbers = \"1,3,4,5,67,2434,2342,242444\"\n",
    "print(text_with_numbers.split(','))\n",
    "print(int(text_with_numbers.split(',')[4])) #exact number as a number\n",
    "print(text_with_numbers.split(',')[4]) #exact number"
   ]
  },
  {
   "cell_type": "code",
   "execution_count": 603,
   "metadata": {},
   "outputs": [
    {
     "data": {
      "text/plain": [
       "'Manvydas'"
      ]
     },
     "execution_count": 603,
     "metadata": {},
     "output_type": "execute_result"
    }
   ],
   "source": [
    "#capitalize \n",
    "my_name.capitalize() #more funtions"
   ]
  },
  {
   "cell_type": "code",
   "execution_count": 604,
   "metadata": {},
   "outputs": [
    {
     "name": "stdout",
     "output_type": "stream",
     "text": [
      "Privet cia yra tiesiog, ilgesnis tekstas karpymui\n"
     ]
    }
   ],
   "source": [
    "sentence ='labas cia yra tiesiog, ilgesnis tekstas karpymui'\n",
    "sentence.replace('labas', 'Privet')\n",
    "sentence = sentence.replace('labas', 'Privet')\n",
    "print(sentence)"
   ]
  },
  {
   "cell_type": "code",
   "execution_count": 605,
   "metadata": {},
   "outputs": [
    {
     "name": "stdout",
     "output_type": "stream",
     "text": [
      "Privet cia yra tiesiog, ilgesnis tekstas karpymui\n",
      "49\n",
      "s karpymui\n"
     ]
    }
   ],
   "source": [
    "#ilgis\n",
    "print(sentence)\n",
    "print(len(sentence))\n",
    "print(sentence[len(sentence) - 10:])\n"
   ]
  },
  {
   "cell_type": "code",
   "execution_count": 606,
   "metadata": {},
   "outputs": [
    {
     "name": "stdout",
     "output_type": "stream",
     "text": [
      "Manvydas Saumanas\n"
     ]
    }
   ],
   "source": [
    "my_name = 'Manvydas'\n",
    "my_surname = 'Saumanas'\n",
    "print(my_name, my_surname)\n"
   ]
  },
  {
   "cell_type": "code",
   "execution_count": 607,
   "metadata": {},
   "outputs": [
    {
     "name": "stdout",
     "output_type": "stream",
     "text": [
      "HELLO WORLD I AM VERY HAPPY TO LEARN PHYTON\n"
     ]
    }
   ],
   "source": [
    "my_string = 'Hello World I am very happy to learn Phyton'\n",
    "print(my_string.upper())"
   ]
  },
  {
   "cell_type": "code",
   "execution_count": 608,
   "metadata": {},
   "outputs": [],
   "source": [
    "my_string = 'Hello World I am very happy to learn Phyton'\n",
    "#print(my_string.replace('Python'[::2])my_string.upper)"
   ]
  },
  {
   "cell_type": "code",
   "execution_count": 609,
   "metadata": {},
   "outputs": [
    {
     "name": "stdout",
     "output_type": "stream",
     "text": [
      "The original string is : Python\n",
      "The alternate case string is : PyThOn\n"
     ]
    }
   ],
   "source": [
    "another_string = \"Python\"\n",
    "# another_string.replace('t', 'T').replace('o', 'O').replace()\n",
    "\n",
    "print(\"The original string is : \" + str(another_string))\n",
    "\n",
    "# Using upper() + lower() + loop\n",
    "# Alternate cases in String\n",
    "replaced_string = \"\"\n",
    "for idx in range(len(another_string)):\n",
    "    if not idx % 2:\n",
    "        replaced_string = replaced_string + another_string[idx].upper()\n",
    "    else:\n",
    "        replaced_string = replaced_string + another_string[idx].lower()\n",
    "\n",
    "# printing result\n",
    "print(\"The alternate case string is : \" + str(replaced_string))\n"
   ]
  },
  {
   "cell_type": "code",
   "execution_count": 610,
   "metadata": {},
   "outputs": [
    {
     "name": "stdout",
     "output_type": "stream",
     "text": [
      "happy\n"
     ]
    }
   ],
   "source": [
    "my_string = 'Hello World I am very happy to learn Phyton'\n",
    "word_to_find = \"happy\"\n",
    "my_string.index(word_to_find)\n",
    "print(my_string[my_string.index(word_to_find):my_string.index(word_to_find) +len(word_to_find)])"
   ]
  }
 ],
 "metadata": {
  "interpreter": {
   "hash": "21a859cbf10483a4ed0edf5b9849244689ffc92bec6c92eb8b7d9084b1056d0a"
  },
  "kernelspec": {
   "display_name": "Python 3.9.7 64-bit",
   "language": "python",
   "name": "python3"
  },
  "language_info": {
   "codemirror_mode": {
    "name": "ipython",
    "version": 3
   },
   "file_extension": ".py",
   "mimetype": "text/x-python",
   "name": "python",
   "nbconvert_exporter": "python",
   "pygments_lexer": "ipython3",
   "version": "3.9.7"
  },
  "orig_nbformat": 4
 },
 "nbformat": 4,
 "nbformat_minor": 2
}
