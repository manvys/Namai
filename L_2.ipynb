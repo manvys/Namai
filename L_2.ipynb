{
 "cells": [
  {
   "cell_type": "code",
   "execution_count": 606,
   "metadata": {},
   "outputs": [],
   "source": [
    "my_int = 6\n",
    "my_float = 6.\n"
   ]
  },
  {
   "cell_type": "code",
   "execution_count": 607,
   "metadata": {},
   "outputs": [
    {
     "name": "stdout",
     "output_type": "stream",
     "text": [
      "<class 'int'>\n",
      "<class 'float'>\n"
     ]
    }
   ],
   "source": [
    "print (type(my_int))\n",
    "print (type(my_float))"
   ]
  },
  {
   "cell_type": "code",
   "execution_count": 608,
   "metadata": {},
   "outputs": [
    {
     "name": "stdout",
     "output_type": "stream",
     "text": [
      "19683\n",
      "12\n",
      "-6\n",
      "19683\n",
      "0.3333333333333333\n",
      "0\n",
      "reminder\n",
      "3\n",
      "1\n",
      "0\n"
     ]
    }
   ],
   "source": [
    "3 + 9\n",
    "3 + 9.\n",
    "print(3 ** 9)\n",
    "print(3 + 9)\n",
    "print(3 - 9)\n",
    "print(3 ** 9)\n",
    "print(3 / 9)\n",
    "print(3 // 9)\n",
    "print(\"reminder\")\n",
    "print(3 % 9)\n",
    "print(123141345 % 2)\n",
    "print(123141346 % 2)"
   ]
  },
  {
   "cell_type": "code",
   "execution_count": 609,
   "metadata": {},
   "outputs": [
    {
     "name": "stdout",
     "output_type": "stream",
     "text": [
      "sum: 16\n",
      "subtract: 10\n",
      "multipy: 39\n",
      "power of: 2197\n",
      "divide: 4.333333333333333\n",
      "modulus: 4\n"
     ]
    }
   ],
   "source": [
    "my_int_1 = 13\n",
    "my_int_2 = 3\n",
    "print( f'sum: {my_int_1 + my_int_2}')\n",
    "print( f'subtract: {my_int_1 - my_int_2}')\n",
    "print( f'multipy: {my_int_1 * my_int_2}')\n",
    "print( f'power of: {my_int_1 ** my_int_2}')\n",
    "print( f'divide: {my_int_1 / my_int_2}')\n",
    "print( f'modulus: {my_int_1 // my_int_2}')"
   ]
  },
  {
   "cell_type": "code",
   "execution_count": 610,
   "metadata": {},
   "outputs": [
    {
     "name": "stdout",
     "output_type": "stream",
     "text": [
      "sum: 16.35312\n",
      "subtract: 10.07312\n",
      "multipy: 41.4891968\n",
      "power of: 3310.9825413723033\n",
      "divide: 4.208\n",
      "modulus: 4.0\n"
     ]
    }
   ],
   "source": [
    "my_float_1 = 13.21312\n",
    "my_float_2 = 3.14\n",
    "print( f'sum: {my_float_1 + my_float_2}')\n",
    "print( f'subtract: {my_float_1 - my_float_2}')\n",
    "print( f'multipy: {my_float_1 * my_float_2}')\n",
    "print( f'power of: {my_float_1 ** my_float_2}')\n",
    "print( f'divide: {my_float_1 / my_float_2}')\n",
    "print( f'modulus: {my_float_1 // my_float_2}')"
   ]
  },
  {
   "cell_type": "code",
   "execution_count": 611,
   "metadata": {},
   "outputs": [
    {
     "name": "stdout",
     "output_type": "stream",
     "text": [
      "Distance difference: 390.625\n"
     ]
    }
   ],
   "source": [
    "dist_moon = 384000\n",
    "dist_sun = 150000000\n",
    "print(f'Distance difference: {dist_sun / dist_moon}')"
   ]
  },
  {
   "cell_type": "code",
   "execution_count": 612,
   "metadata": {},
   "outputs": [
    {
     "name": "stdout",
     "output_type": "stream",
     "text": [
      "Seconds to the moon 9216000.0\n",
      "Hours to the moon 2560.0\n",
      "Days to the moon 106.66666666666667\n",
      "Months to the moon 3.555555555555556\n",
      "Years to the moon 0.29629629629629634\n"
     ]
    }
   ],
   "source": [
    "speed = 150\n",
    "days = 24\n",
    "month = 30\n",
    "year = 12\n",
    "print(f'Seconds to the moon {dist_moon / speed * 3600}')\n",
    "print(f'Hours to the moon {dist_moon / speed}')\n",
    "print(f'Days to the moon {dist_moon / speed / days}')\n",
    "print(f'Months to the moon {dist_moon / speed / days / month}')\n",
    "print(f'Years to the moon {dist_moon / speed / days / month / year}')\n",
    "\n"
   ]
  },
  {
   "cell_type": "code",
   "execution_count": 613,
   "metadata": {},
   "outputs": [
    {
     "name": "stdout",
     "output_type": "stream",
     "text": [
      "We would reach moon on: 2022-03-04 11:55:49.181398 \n"
     ]
    }
   ],
   "source": [
    "import datetime\n",
    "\n",
    "now = datetime.datetime.now()\n",
    "my_birthday = datetime.date(1987,9,9)\n",
    "datetime.datetime.now().date() - my_birthday\n",
    "\n",
    "delta = datetime.timedelta(seconds=dist_moon/speed*3600)\n",
    "print (f'We would reach moon on: {now + delta } ')\n"
   ]
  },
  {
   "cell_type": "code",
   "execution_count": 614,
   "metadata": {},
   "outputs": [
    {
     "name": "stdout",
     "output_type": "stream",
     "text": [
      "False\n",
      "<class 'bool'>\n"
     ]
    }
   ],
   "source": [
    "#Boolians\n",
    "\n",
    "my_bool = 1 > 5\n",
    "print(my_bool)\n",
    "print(type(my_bool))\n"
   ]
  },
  {
   "cell_type": "code",
   "execution_count": 615,
   "metadata": {},
   "outputs": [
    {
     "name": "stdout",
     "output_type": "stream",
     "text": [
      "My_int is even True\n"
     ]
    }
   ],
   "source": [
    "my_bool_1 = True\n",
    "my_bool_2 = False\n",
    "is_even = my_int % 2 == 0\n",
    "print(f'My_int is even {is_even}')"
   ]
  },
  {
   "cell_type": "code",
   "execution_count": 616,
   "metadata": {},
   "outputs": [
    {
     "name": "stdout",
     "output_type": "stream",
     "text": [
      "equal to operator ==: True\n",
      "equal to operator ==: False\n",
      "Not equal to operator =!: True\n",
      "Not equal to operator =!: False\n",
      "More to operator =!: False\n",
      "Less to operator =!: False\n",
      "More or equal to operator =!: True\n",
      "Less or equal to operator =!: True\n"
     ]
    }
   ],
   "source": [
    "##Comparason operaros\n",
    "\n",
    "print(f'equal to operator ==: {1==1}')\n",
    "print(f'equal to operator ==: {1==10}')\n",
    "print(f'Not equal to operator =!: {1!=10}')\n",
    "print(f'Not equal to operator =!: {1!=1}')\n",
    "print(f'More to operator =!: {1 > 1}')\n",
    "print(f'Less to operator =!: {1 < 1}')\n",
    "print(f'More or equal to operator =!: {1 >= 1}')\n",
    "print(f'Less or equal to operator =!: {1 <= 1}')\n"
   ]
  },
  {
   "cell_type": "code",
   "execution_count": 617,
   "metadata": {},
   "outputs": [],
   "source": [
    "10 > 2 and 2 < 5;\n",
    "\n"
   ]
  },
  {
   "cell_type": "code",
   "execution_count": 618,
   "metadata": {},
   "outputs": [
    {
     "data": {
      "text/plain": [
       "False"
      ]
     },
     "execution_count": 618,
     "metadata": {},
     "output_type": "execute_result"
    }
   ],
   "source": [
    "10 > 2 and 10 < 5"
   ]
  },
  {
   "cell_type": "code",
   "execution_count": 619,
   "metadata": {},
   "outputs": [
    {
     "data": {
      "text/plain": [
       "True"
      ]
     },
     "execution_count": 619,
     "metadata": {},
     "output_type": "execute_result"
    }
   ],
   "source": [
    "10 > 2 or 10 < 5"
   ]
  },
  {
   "cell_type": "code",
   "execution_count": 620,
   "metadata": {},
   "outputs": [
    {
     "data": {
      "text/plain": [
       "True"
      ]
     },
     "execution_count": 620,
     "metadata": {},
     "output_type": "execute_result"
    }
   ],
   "source": [
    "True and 10 > 2 and 10 % 2 == 0 or False\n",
    "# <-true----------------><------false--->"
   ]
  },
  {
   "cell_type": "code",
   "execution_count": 621,
   "metadata": {},
   "outputs": [
    {
     "data": {
      "text/plain": [
       "False"
      ]
     },
     "execution_count": 621,
     "metadata": {},
     "output_type": "execute_result"
    }
   ],
   "source": [
    "True and 10 > 2 and 11 % 2 == 0 or False\n",
    "#<----false--------------------><_false_->"
   ]
  },
  {
   "cell_type": "code",
   "execution_count": 622,
   "metadata": {},
   "outputs": [],
   "source": [
    "# Membership operator"
   ]
  },
  {
   "cell_type": "code",
   "execution_count": 623,
   "metadata": {},
   "outputs": [
    {
     "data": {
      "text/plain": [
       "True"
      ]
     },
     "execution_count": 623,
     "metadata": {},
     "output_type": "execute_result"
    }
   ],
   "source": [
    "text = 'Hello World'\n",
    "'World' in text"
   ]
  },
  {
   "cell_type": "code",
   "execution_count": 624,
   "metadata": {},
   "outputs": [],
   "source": [
    "#List"
   ]
  },
  {
   "cell_type": "code",
   "execution_count": 625,
   "metadata": {},
   "outputs": [
    {
     "name": "stdout",
     "output_type": "stream",
     "text": [
      "Lenght of list: 9\n",
      "First of list: 1\n",
      "First of list: [1, 2, 4]\n",
      "End of list: [4, 5, 34, 5, 123, 5342, 344]\n"
     ]
    }
   ],
   "source": [
    "my_list = [1,2,4,5,34,5,123,5342,344]\n",
    "print(f'Lenght of list: {len(my_list)}')\n",
    "print(f'First of list: {(my_list[0])}')\n",
    "print(f'First of list: {(my_list[:3])}')\n",
    "print(f'End of list: {(my_list[2:])}')\n"
   ]
  },
  {
   "cell_type": "code",
   "execution_count": 626,
   "metadata": {},
   "outputs": [
    {
     "name": "stdout",
     "output_type": "stream",
     "text": [
      "[1, 2, 2423, 24, 46, 23, 'Manu', 'alio valio', True]\n"
     ]
    }
   ],
   "source": [
    "my_list2 = [1,2,2423,24,46,23,'Manu',\"alio valio\", True]\n",
    "print(my_list2)"
   ]
  },
  {
   "cell_type": "code",
   "execution_count": 630,
   "metadata": {},
   "outputs": [
    {
     "name": "stdout",
     "output_type": "stream",
     "text": [
      "[1, 2, 4, 5, 34, 5, 123, 5342, 344]\n",
      "[1, 2, 4, 5, 5, 34, 123, 344, 5342]\n",
      "[5342, 344, 123, 34, 5, 5, 4, 2, 1]\n"
     ]
    }
   ],
   "source": [
    "my_list3 = [1,2,4,5,34,5,123,5342,344]\n",
    "print(my_list3)\n",
    "\n",
    "my_list3.sort()\n",
    "print(my_list3)\n",
    "\n",
    "my_list3.sort(reverse=True)\n",
    "print(my_list3)"
   ]
  }
 ],
 "metadata": {
  "interpreter": {
   "hash": "21a859cbf10483a4ed0edf5b9849244689ffc92bec6c92eb8b7d9084b1056d0a"
  },
  "kernelspec": {
   "display_name": "Python 3.9.7 64-bit",
   "language": "python",
   "name": "python3"
  },
  "language_info": {
   "codemirror_mode": {
    "name": "ipython",
    "version": 3
   },
   "file_extension": ".py",
   "mimetype": "text/x-python",
   "name": "python",
   "nbconvert_exporter": "python",
   "pygments_lexer": "ipython3",
   "version": "3.9.7"
  },
  "orig_nbformat": 4
 },
 "nbformat": 4,
 "nbformat_minor": 2
}
