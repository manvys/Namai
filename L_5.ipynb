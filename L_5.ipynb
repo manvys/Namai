{
 "cells": [
  {
   "cell_type": "code",
   "execution_count": 1,
   "metadata": {},
   "outputs": [],
   "source": [
    "#None\n",
    "\n",
    "user_input=''\n",
    "\n",
    "user_input = input('Enter your name')"
   ]
  },
  {
   "cell_type": "code",
   "execution_count": 3,
   "metadata": {},
   "outputs": [
    {
     "data": {
      "text/plain": [
       "'futbolas'"
      ]
     },
     "execution_count": 3,
     "metadata": {},
     "output_type": "execute_result"
    }
   ],
   "source": [
    "\n",
    "#access value\n",
    "my_dict = {\n",
    "    'name':['tomas','audrius'],\n",
    "    'age': 12,\n",
    "    False: 'false',\n",
    "    5:'five',\n",
    "    'hobies':['futbolas', 'tenisas'],\n",
    "}\n",
    "my_dict['hobies'][0]\n",
    "\n"
   ]
  },
  {
   "cell_type": "code",
   "execution_count": 4,
   "metadata": {},
   "outputs": [
    {
     "name": "stdout",
     "output_type": "stream",
     "text": [
      "Mano hobiai : futbolas\n",
      "Mano hobiai : tenisas\n"
     ]
    }
   ],
   "source": [
    "for hobby in my_dict['hobies']:\n",
    "    print(f'Mano hobiai : {hobby}')"
   ]
  },
  {
   "cell_type": "code",
   "execution_count": 7,
   "metadata": {},
   "outputs": [
    {
     "name": "stdout",
     "output_type": "stream",
     "text": [
      "3\n",
      "{'brand': 'Ford', 'model': 'Mustang', 'year': 2020}\n"
     ]
    }
   ],
   "source": [
    "car = {\n",
    "    'brand':'Ford',\n",
    "    'model':'Mustang',\n",
    "    'year':1964\n",
    "}\n",
    "\n",
    "print(len(car))\n",
    "car['year'] = 2020\n",
    "print(car)\n"
   ]
  },
  {
   "cell_type": "code",
   "execution_count": 9,
   "metadata": {},
   "outputs": [
    {
     "name": "stdout",
     "output_type": "stream",
     "text": [
      "{'brand': 'Ford', 'model': 'Mustang', 'year': 2020, 'color': 'red', 'used': True}\n",
      "{'brand': 'gavno', 'model': 'Mustang', 'year': 2020, 'color': 'red', 'used': True}\n"
     ]
    }
   ],
   "source": [
    "car.update({'color':'red', 'used':True})\n",
    "print(car)\n",
    "\n",
    "#or\n",
    "\n",
    "car['brand'] = 'gavno'\n",
    "print(car)"
   ]
  },
  {
   "cell_type": "code",
   "execution_count": 10,
   "metadata": {},
   "outputs": [
    {
     "name": "stdout",
     "output_type": "stream",
     "text": [
      "{'model': 'Mustang', 'year': 2020, 'color': 'red', 'used': True}\n"
     ]
    }
   ],
   "source": [
    "car.pop('brand')\n",
    "print(car)\n",
    "car.pop"
   ]
  },
  {
   "cell_type": "markdown",
   "metadata": {},
   "source": [
    "#Set\n"
   ]
  },
  {
   "cell_type": "code",
   "execution_count": 11,
   "metadata": {},
   "outputs": [
    {
     "name": "stdout",
     "output_type": "stream",
     "text": [
      "{1, 2, 'apple', 24, 'banana', 'kiwi', 43}\n"
     ]
    }
   ],
   "source": [
    "fruits={'apple','kiwi','apple','banana',1,2,43,24}\n",
    "print(fruits)\n"
   ]
  },
  {
   "cell_type": "code",
   "execution_count": 14,
   "metadata": {},
   "outputs": [
    {
     "name": "stdout",
     "output_type": "stream",
     "text": [
      "{'tomas', 'jonas', 'petras'}\n",
      "3\n"
     ]
    }
   ],
   "source": [
    "names = ['jonas', 'tomas','petras','jonas']\n",
    "print(set(names))\n",
    "print(len(set(names)))"
   ]
  },
  {
   "cell_type": "code",
   "execution_count": 19,
   "metadata": {},
   "outputs": [
    {
     "name": "stdout",
     "output_type": "stream",
     "text": [
      "{1, 2, 'apple', 24, 'banana', 'kiwi', 43, 'pineapple'}\n",
      "{1, 2, 'banana', 'apple', 24, 'kiwi', 43, 'orange', 'pear', 'pineapple'}\n"
     ]
    }
   ],
   "source": [
    "fruits={'apple','kiwi','apple','banana',1,2,43,24}\n",
    "fruits.add('pineapple')\n",
    "print(fruits)\n",
    "fruits.update(['pear','orange'])\n",
    "print(fruits)"
   ]
  },
  {
   "cell_type": "code",
   "execution_count": 22,
   "metadata": {},
   "outputs": [
    {
     "ename": "KeyError",
     "evalue": "'kiwi'",
     "output_type": "error",
     "traceback": [
      "\u001b[1;31m---------------------------------------------------------------------------\u001b[0m",
      "\u001b[1;31mKeyError\u001b[0m                                  Traceback (most recent call last)",
      "\u001b[1;32m~\\AppData\\Local\\Temp\\1/ipykernel_19440/3702018141.py\u001b[0m in \u001b[0;36m<module>\u001b[1;34m\u001b[0m\n\u001b[1;32m----> 1\u001b[1;33m \u001b[0mfruits\u001b[0m\u001b[1;33m.\u001b[0m\u001b[0mremove\u001b[0m\u001b[1;33m(\u001b[0m\u001b[1;34m'kiwi'\u001b[0m\u001b[1;33m)\u001b[0m\u001b[1;33m\u001b[0m\u001b[1;33m\u001b[0m\u001b[0m\n\u001b[0m\u001b[0;32m      2\u001b[0m \u001b[0mfruits\u001b[0m\u001b[1;33m.\u001b[0m\u001b[0mremove\u001b[0m\u001b[1;33m(\u001b[0m\u001b[1;34m'kiwi'\u001b[0m\u001b[1;33m)\u001b[0m\u001b[1;33m\u001b[0m\u001b[1;33m\u001b[0m\u001b[0m\n",
      "\u001b[1;31mKeyError\u001b[0m: 'kiwi'"
     ]
    }
   ],
   "source": [
    "fruits.remove('kiwi')\n",
    "fruits.remove('kiwi') # no bananas left"
   ]
  },
  {
   "cell_type": "code",
   "execution_count": 24,
   "metadata": {},
   "outputs": [
    {
     "name": "stdout",
     "output_type": "stream",
     "text": [
      "{1, 2, 'pineapple', 'kiwi', 43, 'apple', 24, 'pear', 'orange'}\n"
     ]
    }
   ],
   "source": [
    "fruits = {1, 2, 'banana', 'apple', 24, 'kiwi', 43, 'orange', 'pear', 'pineapple'}\n",
    "fruits.discard('banana')\n",
    "print(fruits)"
   ]
  },
  {
   "cell_type": "code",
   "execution_count": 28,
   "metadata": {},
   "outputs": [
    {
     "name": "stdout",
     "output_type": "stream",
     "text": [
      "{234, 3123, 45}\n",
      "{1, 3, 5}\n",
      "{1, 353, 3, 345123, 5, 234, 45, 3245, 3123, 211, 24}\n"
     ]
    }
   ],
   "source": [
    "set1 = {1,3,45,3,5,3123,234,}\n",
    "set2 = {1,24,345123,353,3245,211,3,5}\n",
    "\n",
    "print(set1.difference(set2))\n",
    "print(set1.intersection(set2))\n",
    "print(set1.union(set2))\n",
    "print(set1.union(set2))"
   ]
  },
  {
   "cell_type": "code",
   "execution_count": 34,
   "metadata": {},
   "outputs": [
    {
     "name": "stdout",
     "output_type": "stream",
     "text": [
      "True\n"
     ]
    }
   ],
   "source": [
    "set1 = {1,2,3,4}\n",
    "set2 = {1,2,3,4,5}\n",
    "print(set1.issubset(set2))"
   ]
  },
  {
   "cell_type": "code",
   "execution_count": 32,
   "metadata": {},
   "outputs": [
    {
     "name": "stdout",
     "output_type": "stream",
     "text": [
      "False\n"
     ]
    }
   ],
   "source": [
    "set1 = {1,2,3,4,7}\n",
    "set2 = {1,2,3,4,5}\n",
    "print(set1.issubset(set2))"
   ]
  },
  {
   "cell_type": "code",
   "execution_count": 35,
   "metadata": {},
   "outputs": [
    {
     "name": "stdout",
     "output_type": "stream",
     "text": [
      "True\n"
     ]
    }
   ],
   "source": [
    "set1 = {1,2,3,4}\n",
    "set2 = {1,2,3,4,5}\n",
    "print(set2.issuperset(set1))"
   ]
  },
  {
   "cell_type": "code",
   "execution_count": 37,
   "metadata": {},
   "outputs": [
    {
     "name": "stdout",
     "output_type": "stream",
     "text": [
      "{1, 2, 'pineapple', 'kiwi', 43, 'apple', 24, 'pear', 'orange'}\n",
      "True\n"
     ]
    }
   ],
   "source": [
    "print(fruits)\n",
    "print('pineapple' in fruits)"
   ]
  },
  {
   "cell_type": "code",
   "execution_count": null,
   "metadata": {},
   "outputs": [
    {
     "name": "stdout",
     "output_type": "stream",
     "text": [
      "{'banana', 'Cherry', 'apple'}\n",
      "{'banana', 'Cherry'}\n",
      "{'banana', 'Cherry', 'watermelon'}\n"
     ]
    }
   ],
   "source": [
    "fruits = {'apple', 'banana','Cherry'}\n",
    "print(fruits)\n",
    "\n",
    "fruits.discard('apple')\n",
    "print(fruits)\n",
    "fruits.add('watermelon')\n",
    "print(fruits)"
   ]
  },
  {
   "cell_type": "code",
   "execution_count": 60,
   "metadata": {},
   "outputs": [
    {
     "name": "stdout",
     "output_type": "stream",
     "text": [
      "{'banana', 'Cherry', 'watermelon', 'apple'}\n",
      "{'banana', 'Cherry', 'watermelon', 'tomato', 'plum', 'apple', 'orange', 'pineapple'}\n",
      "{'banana', 'Cherry', 'watermelon', 'plum', 'apple', 'orange', 'pineapple'}\n",
      "7\n",
      "{'banana', 'Cherry', 'watermelon', 'plum', 'apple', 'orange', 'pineapple', 'cherry'}\n",
      "8\n"
     ]
    }
   ],
   "source": [
    "fruits = {'apple', 'banana','Cherry'}\n",
    "fruits.add('watermelon')\n",
    "print(fruits)\n",
    "fruits.update(['tomato', 'pineapple', 'orange', 'plum'])\n",
    "print(fruits)\n",
    "fruits.remove('tomato')\n",
    "print(fruits)\n",
    "print(len(fruits))\n",
    "fruits.add('cherry')\n",
    "print(fruits)\n",
    "print(len(fruits))"
   ]
  },
  {
   "cell_type": "code",
   "execution_count": 62,
   "metadata": {},
   "outputs": [
    {
     "name": "stdout",
     "output_type": "stream",
     "text": [
      "Baby, can't you see I'm calling?\n",
      "A guy like you should wear a warning\n",
      "It's dangerous, I'm falling\n",
      "There's no escape, I can't wait\n",
      "I need a hit, baby, give me it\n",
      "You're dangerous, I'm loving it\n",
      "Too high, can't come down\n",
      "Losing my head, spinnin' 'round and 'round\n",
      "Do you feel me now?\n",
      "With a taste of your lips, I'm on a ride\n",
      "You're toxic, I'm slippin' under\n",
      "With a taste of a poison paradise\n",
      "I'm addicted to you\n",
      "Don't you know that you're toxic?\n",
      "And I love what you do\n",
      "Don't you know that you're toxic?\n",
      "It's getting late to give you up\n",
      "I took a sip from my devil's cup\n",
      "Slowly, it's taking over me\n",
      "Too high, can't come down\n",
      "It's in the air and it's all around\n",
      "Can you feel me now?\n",
      "With a taste of your lips, I'm on a ride\n",
      "You're toxic, I'm slippin' under\n",
      "With a taste of a poison paradise\n",
      "I'm addicted to you\n",
      "Don't you know that you're toxic?\n",
      "And I love what you do\n",
      "Don't you know that you're toxic?\n",
      "Don't you know that you're toxic?\n",
      "Taste of your lips, I'm on a ride\n",
      "You're toxic, I'm slippin' under\n",
      "With a taste of a poison paradise\n",
      "I'm addicted to you\n",
      "Don't you know that you're toxic?\n",
      "With a taste of your lips, I'm on a ride\n",
      "You're toxic, I'm slippin' under (toxic)\n",
      "With a taste of a poison paradise\n",
      "I'm addicted to you\n",
      "Don't you know that you're toxic?\n",
      "Intoxicate me now, with your lovin' now\n",
      "I think I'm ready now, I think I'm ready now\n",
      "Intoxicate me now, with your lovin' now\n",
      "I think I'm ready now\n"
     ]
    }
   ],
   "source": [
    "song1 = \"\"\"Baby, can't you see I'm calling?\n",
    "A guy like you should wear a warning\n",
    "It's dangerous, I'm falling\n",
    "There's no escape, I can't wait\n",
    "I need a hit, baby, give me it\n",
    "You're dangerous, I'm loving it\n",
    "Too high, can't come down\n",
    "Losing my head, spinnin' 'round and 'round\n",
    "Do you feel me now?\n",
    "With a taste of your lips, I'm on a ride\n",
    "You're toxic, I'm slippin' under\n",
    "With a taste of a poison paradise\n",
    "I'm addicted to you\n",
    "Don't you know that you're toxic?\n",
    "And I love what you do\n",
    "Don't you know that you're toxic?\n",
    "It's getting late to give you up\n",
    "I took a sip from my devil's cup\n",
    "Slowly, it's taking over me\n",
    "Too high, can't come down\n",
    "It's in the air and it's all around\n",
    "Can you feel me now?\n",
    "With a taste of your lips, I'm on a ride\n",
    "You're toxic, I'm slippin' under\n",
    "With a taste of a poison paradise\n",
    "I'm addicted to you\n",
    "Don't you know that you're toxic?\n",
    "And I love what you do\n",
    "Don't you know that you're toxic?\n",
    "Don't you know that you're toxic?\n",
    "Taste of your lips, I'm on a ride\n",
    "You're toxic, I'm slippin' under\n",
    "With a taste of a poison paradise\n",
    "I'm addicted to you\n",
    "Don't you know that you're toxic?\n",
    "With a taste of your lips, I'm on a ride\n",
    "You're toxic, I'm slippin' under (toxic)\n",
    "With a taste of a poison paradise\n",
    "I'm addicted to you\n",
    "Don't you know that you're toxic?\n",
    "Intoxicate me now, with your lovin' now\n",
    "I think I'm ready now, I think I'm ready now\n",
    "Intoxicate me now, with your lovin' now\n",
    "I think I'm ready now\"\"\"\n",
    "\n",
    "print(song1)"
   ]
  },
  {
   "cell_type": "code",
   "execution_count": 71,
   "metadata": {},
   "outputs": [
    {
     "name": "stdout",
     "output_type": "stream",
     "text": [
      "baby cant you see im calling\n",
      "a guy like you should wear a warning\n",
      "its dangerous im falling\n",
      "res no escape i cant wait\n",
      "i need a hit baby give me it\n",
      "youre dangerous im loving it\n",
      "too high cant come down\n",
      "losing my head spinnin round and round\n",
      "do you feel me now\n",
      "with a taste of your lips im on a ride\n",
      "youre toxic im slippin under\n",
      "with a taste of a poison paradise\n",
      "im addicted to you\n",
      "dont you know that youre toxic\n",
      "and i love what you do\n",
      "dont you know that youre toxic\n",
      "its getting late to give you up\n",
      "i took a sip from my devils cup\n",
      "slowly its taking over me\n",
      "too high cant come down\n",
      "its in  air and its all around\n",
      "can you feel me now\n",
      "with a taste of your lips im on a ride\n",
      "youre toxic im slippin under\n",
      "with a taste of a poison paradise\n",
      "im addicted to you\n",
      "dont you know that youre toxic\n",
      "and i love what you do\n",
      "dont you know that youre toxic\n",
      "dont you know that youre toxic\n",
      "taste of your lips im on a ride\n",
      "youre toxic im slippin under\n",
      "with a taste of a poison paradise\n",
      "im addicted to you\n",
      "dont you know that youre toxic\n",
      "with a taste of your lips im on a ride\n",
      "youre toxic im slippin under (toxic)\n",
      "with a taste of a poison paradise\n",
      "im addicted to you\n",
      "dont you know that youre toxic\n",
      "intoxicate me now with your lovin now\n",
      "i think im ready now i think im ready now\n",
      "intoxicate me now with your lovin now\n",
      "i think im ready now\n",
      "['baby', 'cant', 'you', 'see', 'im', 'calling', 'a', 'guy', 'like', 'you', 'should', 'wear', 'a', 'warning', 'its', 'dangerous', 'im', 'falling', 'res', 'no', 'escape', 'i', 'cant', 'wait', 'i', 'need', 'a', 'hit', 'baby', 'give', 'me', 'it', 'youre', 'dangerous', 'im', 'loving', 'it', 'too', 'high', 'cant', 'come', 'down', 'losing', 'my', 'head', 'spinnin', 'round', 'and', 'round', 'do', 'you', 'feel', 'me', 'now', 'with', 'a', 'taste', 'of', 'your', 'lips', 'im', 'on', 'a', 'ride', 'youre', 'toxic', 'im', 'slippin', 'under', 'with', 'a', 'taste', 'of', 'a', 'poison', 'paradise', 'im', 'addicted', 'to', 'you', 'dont', 'you', 'know', 'that', 'youre', 'toxic', 'and', 'i', 'love', 'what', 'you', 'do', 'dont', 'you', 'know', 'that', 'youre', 'toxic', 'its', 'getting', 'late', 'to', 'give', 'you', 'up', 'i', 'took', 'a', 'sip', 'from', 'my', 'devils', 'cup', 'slowly', 'its', 'taking', 'over', 'me', 'too', 'high', 'cant', 'come', 'down', 'its', 'in', 'air', 'and', 'its', 'all', 'around', 'can', 'you', 'feel', 'me', 'now', 'with', 'a', 'taste', 'of', 'your', 'lips', 'im', 'on', 'a', 'ride', 'youre', 'toxic', 'im', 'slippin', 'under', 'with', 'a', 'taste', 'of', 'a', 'poison', 'paradise', 'im', 'addicted', 'to', 'you', 'dont', 'you', 'know', 'that', 'youre', 'toxic', 'and', 'i', 'love', 'what', 'you', 'do', 'dont', 'you', 'know', 'that', 'youre', 'toxic', 'dont', 'you', 'know', 'that', 'youre', 'toxic', 'taste', 'of', 'your', 'lips', 'im', 'on', 'a', 'ride', 'youre', 'toxic', 'im', 'slippin', 'under', 'with', 'a', 'taste', 'of', 'a', 'poison', 'paradise', 'im', 'addicted', 'to', 'you', 'dont', 'you', 'know', 'that', 'youre', 'toxic', 'with', 'a', 'taste', 'of', 'your', 'lips', 'im', 'on', 'a', 'ride', 'youre', 'toxic', 'im', 'slippin', 'under', '(toxic)', 'with', 'a', 'taste', 'of', 'a', 'poison', 'paradise', 'im', 'addicted', 'to', 'you', 'dont', 'you', 'know', 'that', 'youre', 'toxic', 'intoxicate', 'me', 'now', 'with', 'your', 'lovin', 'now', 'i', 'think', 'im', 'ready', 'now', 'i', 'think', 'im', 'ready', 'now', 'intoxicate', 'me', 'now', 'with', 'your', 'lovin', 'now', 'i', 'think', 'im', 'ready', 'now']\n",
      "277\n"
     ]
    }
   ],
   "source": [
    "filteredsong1 = song1.lower().replace('the','').replace('?','').replace(',','').replace(\"'\",\"\")\n",
    "print(filteredsong1)\n",
    "filteredsong1 = song1.lower().replace('the','').replace('?','').replace(',','').replace(\"'\",\"\").split() #split in list\n",
    "print(filteredsong1)\n",
    "print(len(filteredsong1))"
   ]
  },
  {
   "cell_type": "code",
   "execution_count": 72,
   "metadata": {},
   "outputs": [
    {
     "name": "stdout",
     "output_type": "stream",
     "text": [
      "80\n"
     ]
    }
   ],
   "source": [
    "uniqueWords = set(filteredsong1)\n",
    "print(len(uniqueWords))"
   ]
  },
  {
   "cell_type": "code",
   "execution_count": 73,
   "metadata": {},
   "outputs": [
    {
     "data": {
      "text/plain": [
       "28.880866425992778"
      ]
     },
     "execution_count": 73,
     "metadata": {},
     "output_type": "execute_result"
    }
   ],
   "source": [
    "len(uniqueWords) / len(filteredsong1) * 100"
   ]
  },
  {
   "cell_type": "code",
   "execution_count": 74,
   "metadata": {},
   "outputs": [
    {
     "name": "stdout",
     "output_type": "stream",
     "text": [
      "{'baby': 2, 'cant': 4, 'you': 18, 'see': 1, 'im': 18, 'calling': 1, 'a': 19, 'guy': 1, 'like': 1, 'should': 1, 'wear': 1, 'warning': 1, 'its': 5, 'dangerous': 2, 'falling': 1, 'res': 1, 'no': 1, 'escape': 1, 'i': 8, 'wait': 1, 'need': 1, 'hit': 1, 'give': 2, 'me': 6, 'it': 2, 'youre': 12, 'loving': 1, 'too': 2, 'high': 2, 'come': 2, 'down': 2, 'losing': 1, 'my': 2, 'head': 1, 'spinnin': 1, 'round': 2, 'and': 4, 'do': 3, 'feel': 2, 'now': 9, 'with': 9, 'taste': 8, 'of': 8, 'your': 6, 'lips': 4, 'on': 4, 'ride': 4, 'toxic': 11, 'slippin': 4, 'under': 4, 'poison': 4, 'paradise': 4, 'addicted': 4, 'to': 5, 'dont': 7, 'know': 7, 'that': 7, 'love': 2, 'what': 2, 'getting': 1, 'late': 1, 'up': 1, 'took': 1, 'sip': 1, 'from': 1, 'devils': 1, 'cup': 1, 'slowly': 1, 'taking': 1, 'over': 1, 'in': 1, 'air': 1, 'all': 1, 'around': 1, 'can': 1, '(toxic)': 1, 'intoxicate': 2, 'lovin': 2, 'think': 3, 'ready': 3}\n"
     ]
    }
   ],
   "source": [
    "wordDict = {}\n",
    "\n",
    "for i in filteredsong1:\n",
    "    if i in wordDict:\n",
    "        wordDict[i]+=1\n",
    "    else:\n",
    "        wordDict[i]=1\n",
    "print(wordDict)\n"
   ]
  },
  {
   "cell_type": "code",
   "execution_count": null,
   "metadata": {},
   "outputs": [],
   "source": [
    "for uniuq in uniqueWords:\n",
    "    wordDict[uniqueWords] = \n",
    "    \n",
    "print(wordDict)"
   ]
  },
  {
   "cell_type": "code",
   "execution_count": 5,
   "metadata": {},
   "outputs": [],
   "source": []
  }
 ],
 "metadata": {
  "interpreter": {
   "hash": "21a859cbf10483a4ed0edf5b9849244689ffc92bec6c92eb8b7d9084b1056d0a"
  },
  "kernelspec": {
   "display_name": "Python 3.9.7 64-bit",
   "language": "python",
   "name": "python3"
  },
  "language_info": {
   "codemirror_mode": {
    "name": "ipython",
    "version": 3
   },
   "file_extension": ".py",
   "mimetype": "text/x-python",
   "name": "python",
   "nbconvert_exporter": "python",
   "pygments_lexer": "ipython3",
   "version": "3.9.7"
  },
  "orig_nbformat": 4
 },
 "nbformat": 4,
 "nbformat_minor": 2
}
