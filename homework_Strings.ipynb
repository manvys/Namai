{
 "cells": [
  {
   "cell_type": "code",
   "execution_count": 13,
   "metadata": {},
   "outputs": [
    {
     "name": "stdout",
     "output_type": "stream",
     "text": [
      "ex$rcis$\n"
     ]
    }
   ],
   "source": [
    "\n",
    "#1. For a given string, change all occurrences of its first character to '&', except the first character itself. \n",
    "#Example string: 'exercise'\n",
    "#Expected output: 'ex&rcis&'\n",
    "my_string = 'exercise'\n",
    "result = my_string[0] + my_string[1:].replace(my_string[0], '$')\n",
    "print(result)"
   ]
  },
  {
   "cell_type": "code",
   "execution_count": 14,
   "metadata": {},
   "outputs": [
    {
     "data": {
      "text/plain": [
       "3"
      ]
     },
     "execution_count": 14,
     "metadata": {},
     "output_type": "execute_result"
    }
   ],
   "source": [
    "#2. Find all occurrences of a substring in a given text by ignoring the letter case.\n",
    "text = 'We few, we happy few, we band of brothers  '\n",
    "substring = 'We'\n",
    "text.lower().count(substring.lower())\n"
   ]
  },
  {
   "cell_type": "code",
   "execution_count": 15,
   "metadata": {},
   "outputs": [
    {
     "data": {
      "text/plain": [
       "109"
      ]
     },
     "execution_count": 15,
     "metadata": {},
     "output_type": "execute_result"
    }
   ],
   "source": [
    "#3. \n",
    "#Find the last position (index) of a given substring.\n",
    "my_text ='I felt happy because I saw the others were happy and because I knew I should feel happy, but I wasn’t really happy.'\n",
    "substring ='happy'\n",
    "\n",
    "my_text.rfind(substring)"
   ]
  }
 ],
 "metadata": {
  "interpreter": {
   "hash": "21a859cbf10483a4ed0edf5b9849244689ffc92bec6c92eb8b7d9084b1056d0a"
  },
  "kernelspec": {
   "display_name": "Python 3.9.7 64-bit",
   "language": "python",
   "name": "python3"
  },
  "language_info": {
   "codemirror_mode": {
    "name": "ipython",
    "version": 3
   },
   "file_extension": ".py",
   "mimetype": "text/x-python",
   "name": "python",
   "nbconvert_exporter": "python",
   "pygments_lexer": "ipython3",
   "version": "3.9.7"
  },
  "orig_nbformat": 4
 },
 "nbformat": 4,
 "nbformat_minor": 2
}
