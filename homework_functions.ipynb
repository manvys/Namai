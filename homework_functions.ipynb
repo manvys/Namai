{
 "cells": [
  {
   "cell_type": "markdown",
   "metadata": {},
   "source": [
    "\n",
    "1. \n",
    "\n",
    "Write a function that accepts two variables of list type, removes all values greater than 10 from the first filter, leaves only values with at least two digits in the second, sum the values of the first list, sum the values of the second, return the product of the two modified lists.\n",
    "\n",
    "\n",
    "functionExercise([10,9,6,16,15,55,2,7],[20,642,33,76,9,7,2])\n",
    "\n",
    "result: 74016\n",
    "\n",
    "1) two variables that will be lists\n",
    "2) remove values >10 from the first list\n",
    "3)  only values of at least two digits will remain in the second list\n",
    "4)  sum the members of both lists -> two numbers\n",
    "5)  return the product of the sums (the sum of the first list, the sum of the second list)\n"
   ]
  },
  {
   "cell_type": "code",
   "execution_count": 8,
   "metadata": {},
   "outputs": [
    {
     "name": "stdout",
     "output_type": "stream",
     "text": [
      "The sum of two modified lists is : 18504\n"
     ]
    }
   ],
   "source": [
    "#1\n",
    "\n",
    "def functionExercise(a,b):\n",
    "    a1 = []\n",
    "    b1 = []\n",
    "    for item in a:\n",
    "        if item < 10:\n",
    "            a1.append(item)\n",
    "    for item2 in b:\n",
    "        if item2 >=10:\n",
    "            b1.append(item2) \n",
    "    return sum(a1)*sum(b1)\n",
    "\n",
    "functionExercise([10,9,6,16,15,55,2,7],[20,642,33,76,9,7,2])\n",
    "print(f'The sum of two modified lists is : {functionExercise([10,9,6,16,15,55,2,7],[20,642,33,76,9,7,2])}')"
   ]
  },
  {
   "cell_type": "markdown",
   "metadata": {},
   "source": [
    "2. Write a function that will accept 4 arguments, three int type, the fourth string, for example (4, 4, 5, 'square') we will get the perimeter, area and volume of the square, come up with calculations for another figure, if the provided shape does not exist, return text that you don’t know this shape\n",
    "\n",
    "\n",
    "Calculator (length = 4, width = 3, height = 5, shape = ‘cuboid’)\n",
    "Should print:\n",
    "'Perimeter is 48, Area is 12, Volume is 60'\n",
    "\n",
    "Perimeter = 4 * (4 + 3 + 5)\n",
    "Area = 2 * ( 4*3 + 4*5 + 3*5 )\n",
    "Volume = 4 * 3 * 5\n",
    "\n",
    "Calculator (4,3,5, ‘cone’)\n",
    "‘I don’t know shape - cone. Aborting’\n",
    "\n",
    "Calculator (4,3,5, ‘sphere’)\n",
    "Perimeter = 2 * 3.14 * 4\n",
    "Area = 3 * 3.14 * 4^2\n",
    "Volume = 4/3 * 3.14 * 4^3"
   ]
  },
  {
   "cell_type": "code",
   "execution_count": 28,
   "metadata": {},
   "outputs": [
    {
     "name": "stdout",
     "output_type": "stream",
     "text": [
      "Perimeter is 48\n",
      "Area is 78\n",
      "Volume is 60\n"
     ]
    }
   ],
   "source": [
    "def Calculator (length=int(),width=int(),height=int(),shape = str('')):\n",
    "    if shape.lower() == 'cuboid':\n",
    "        perimeter = length * (length + width + height)\n",
    "        area = 2 * (length*width + length*width + width*height)\n",
    "        volume = length * width * height\n",
    "    elif shape.lower() == 'sphere':\n",
    "        perimeter = 2 * 3.14 * length\n",
    "        area = width * 3.14 * length**2\n",
    "        volume = length/width * 3.14 * length**width\n",
    "\n",
    "    return print(f'Perimeter is {perimeter}\\nArea is {area}\\nVolume is {volume}')\n",
    " \n",
    "\n",
    "Calculator(4,3,5,'Cuboid')\n",
    "\n"
   ]
  }
 ],
 "metadata": {
  "interpreter": {
   "hash": "21a859cbf10483a4ed0edf5b9849244689ffc92bec6c92eb8b7d9084b1056d0a"
  },
  "kernelspec": {
   "display_name": "Python 3.9.7 64-bit",
   "language": "python",
   "name": "python3"
  },
  "language_info": {
   "codemirror_mode": {
    "name": "ipython",
    "version": 3
   },
   "file_extension": ".py",
   "mimetype": "text/x-python",
   "name": "python",
   "nbconvert_exporter": "python",
   "pygments_lexer": "ipython3",
   "version": "3.9.7"
  },
  "orig_nbformat": 4
 },
 "nbformat": 4,
 "nbformat_minor": 2
}
